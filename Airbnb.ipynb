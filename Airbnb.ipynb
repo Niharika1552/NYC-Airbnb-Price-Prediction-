{
  "nbformat": 4,
  "nbformat_minor": 0,
  "metadata": {
    "colab": {
      "name": "Airbnb.ipynb",
      "provenance": [],
      "toc_visible": true,
      "include_colab_link": true
    },
    "kernelspec": {
      "name": "python3",
      "display_name": "Python 3"
    },
    "accelerator": "GPU"
  },
  "cells": [
    {
      "cell_type": "markdown",
      "metadata": {
        "id": "view-in-github",
        "colab_type": "text"
      },
      "source": [
        "<a href=\"https://colab.research.google.com/github/Niharika1552/Research-Project-/blob/master/Airbnb.ipynb\" target=\"_parent\"><img src=\"https://colab.research.google.com/assets/colab-badge.svg\" alt=\"Open In Colab\"/></a>"
      ]
    },
    {
      "cell_type": "code",
      "metadata": {
        "id": "tPyAOBp0NgjO",
        "colab_type": "code",
        "colab": {}
      },
      "source": [
        "import pandas as pd\n",
        "import numpy as np"
      ],
      "execution_count": 0,
      "outputs": []
    },
    {
      "cell_type": "code",
      "metadata": {
        "id": "5vW_kWWFmHBo",
        "colab_type": "code",
        "outputId": "2768ed9e-3d15-4ec4-80b7-3cf5763debf8",
        "colab": {
          "base_uri": "https://localhost:8080/",
          "height": 72
        }
      },
      "source": [
        "df=pd.read_csv('listings.csv')"
      ],
      "execution_count": 4,
      "outputs": [
        {
          "output_type": "stream",
          "text": [
            "/usr/local/lib/python3.6/dist-packages/IPython/core/interactiveshell.py:2718: DtypeWarning: Columns (61,62,94,95) have mixed types. Specify dtype option on import or set low_memory=False.\n",
            "  interactivity=interactivity, compiler=compiler, result=result)\n"
          ],
          "name": "stderr"
        }
      ]
    },
    {
      "cell_type": "code",
      "metadata": {
        "id": "NAj8bpcsoe6R",
        "colab_type": "code",
        "outputId": "bd659050-fac2-4a24-d97c-bf0f7ae18caf",
        "colab": {
          "base_uri": "https://localhost:8080/",
          "height": 613
        }
      },
      "source": [
        "df.head()"
      ],
      "execution_count": 5,
      "outputs": [
        {
          "output_type": "execute_result",
          "data": {
            "text/html": [
              "<div>\n",
              "<style scoped>\n",
              "    .dataframe tbody tr th:only-of-type {\n",
              "        vertical-align: middle;\n",
              "    }\n",
              "\n",
              "    .dataframe tbody tr th {\n",
              "        vertical-align: top;\n",
              "    }\n",
              "\n",
              "    .dataframe thead th {\n",
              "        text-align: right;\n",
              "    }\n",
              "</style>\n",
              "<table border=\"1\" class=\"dataframe\">\n",
              "  <thead>\n",
              "    <tr style=\"text-align: right;\">\n",
              "      <th></th>\n",
              "      <th>id</th>\n",
              "      <th>listing_url</th>\n",
              "      <th>scrape_id</th>\n",
              "      <th>last_scraped</th>\n",
              "      <th>name</th>\n",
              "      <th>summary</th>\n",
              "      <th>space</th>\n",
              "      <th>description</th>\n",
              "      <th>experiences_offered</th>\n",
              "      <th>neighborhood_overview</th>\n",
              "      <th>notes</th>\n",
              "      <th>transit</th>\n",
              "      <th>access</th>\n",
              "      <th>interaction</th>\n",
              "      <th>house_rules</th>\n",
              "      <th>thumbnail_url</th>\n",
              "      <th>medium_url</th>\n",
              "      <th>picture_url</th>\n",
              "      <th>xl_picture_url</th>\n",
              "      <th>host_id</th>\n",
              "      <th>host_url</th>\n",
              "      <th>host_name</th>\n",
              "      <th>host_since</th>\n",
              "      <th>host_location</th>\n",
              "      <th>host_about</th>\n",
              "      <th>host_response_time</th>\n",
              "      <th>host_response_rate</th>\n",
              "      <th>host_acceptance_rate</th>\n",
              "      <th>host_is_superhost</th>\n",
              "      <th>host_thumbnail_url</th>\n",
              "      <th>host_picture_url</th>\n",
              "      <th>host_neighbourhood</th>\n",
              "      <th>host_listings_count</th>\n",
              "      <th>host_total_listings_count</th>\n",
              "      <th>host_verifications</th>\n",
              "      <th>host_has_profile_pic</th>\n",
              "      <th>host_identity_verified</th>\n",
              "      <th>street</th>\n",
              "      <th>neighbourhood</th>\n",
              "      <th>neighbourhood_cleansed</th>\n",
              "      <th>...</th>\n",
              "      <th>extra_people</th>\n",
              "      <th>minimum_nights</th>\n",
              "      <th>maximum_nights</th>\n",
              "      <th>minimum_minimum_nights</th>\n",
              "      <th>maximum_minimum_nights</th>\n",
              "      <th>minimum_maximum_nights</th>\n",
              "      <th>maximum_maximum_nights</th>\n",
              "      <th>minimum_nights_avg_ntm</th>\n",
              "      <th>maximum_nights_avg_ntm</th>\n",
              "      <th>calendar_updated</th>\n",
              "      <th>has_availability</th>\n",
              "      <th>availability_30</th>\n",
              "      <th>availability_60</th>\n",
              "      <th>availability_90</th>\n",
              "      <th>availability_365</th>\n",
              "      <th>calendar_last_scraped</th>\n",
              "      <th>number_of_reviews</th>\n",
              "      <th>number_of_reviews_ltm</th>\n",
              "      <th>first_review</th>\n",
              "      <th>last_review</th>\n",
              "      <th>review_scores_rating</th>\n",
              "      <th>review_scores_accuracy</th>\n",
              "      <th>review_scores_cleanliness</th>\n",
              "      <th>review_scores_checkin</th>\n",
              "      <th>review_scores_communication</th>\n",
              "      <th>review_scores_location</th>\n",
              "      <th>review_scores_value</th>\n",
              "      <th>requires_license</th>\n",
              "      <th>license</th>\n",
              "      <th>jurisdiction_names</th>\n",
              "      <th>instant_bookable</th>\n",
              "      <th>is_business_travel_ready</th>\n",
              "      <th>cancellation_policy</th>\n",
              "      <th>require_guest_profile_picture</th>\n",
              "      <th>require_guest_phone_verification</th>\n",
              "      <th>calculated_host_listings_count</th>\n",
              "      <th>calculated_host_listings_count_entire_homes</th>\n",
              "      <th>calculated_host_listings_count_private_rooms</th>\n",
              "      <th>calculated_host_listings_count_shared_rooms</th>\n",
              "      <th>reviews_per_month</th>\n",
              "    </tr>\n",
              "  </thead>\n",
              "  <tbody>\n",
              "    <tr>\n",
              "      <th>0</th>\n",
              "      <td>3647</td>\n",
              "      <td>https://www.airbnb.com/rooms/3647</td>\n",
              "      <td>20190912153101</td>\n",
              "      <td>2019-09-13</td>\n",
              "      <td>THE VILLAGE OF HARLEM....NEW YORK !</td>\n",
              "      <td>NaN</td>\n",
              "      <td>WELCOME TO OUR INTERNATIONAL URBAN COMMUNITY T...</td>\n",
              "      <td>WELCOME TO OUR INTERNATIONAL URBAN COMMUNITY T...</td>\n",
              "      <td>none</td>\n",
              "      <td>NaN</td>\n",
              "      <td>NaN</td>\n",
              "      <td>NaN</td>\n",
              "      <td>NaN</td>\n",
              "      <td>NaN</td>\n",
              "      <td>Upon arrival please have a legibile copy of yo...</td>\n",
              "      <td>NaN</td>\n",
              "      <td>NaN</td>\n",
              "      <td>https://a0.muscache.com/im/pictures/838341/9b3...</td>\n",
              "      <td>NaN</td>\n",
              "      <td>4632</td>\n",
              "      <td>https://www.airbnb.com/users/show/4632</td>\n",
              "      <td>Elisabeth</td>\n",
              "      <td>2008-11-25</td>\n",
              "      <td>New York, New York, United States</td>\n",
              "      <td>Make Up Artist National/ (Website hidden by Ai...</td>\n",
              "      <td>a few days or more</td>\n",
              "      <td>0%</td>\n",
              "      <td>NaN</td>\n",
              "      <td>f</td>\n",
              "      <td>https://a0.muscache.com/im/users/4632/profile_...</td>\n",
              "      <td>https://a0.muscache.com/im/users/4632/profile_...</td>\n",
              "      <td>Harlem</td>\n",
              "      <td>1.0</td>\n",
              "      <td>1.0</td>\n",
              "      <td>['email', 'phone', 'google', 'reviews', 'jumio...</td>\n",
              "      <td>t</td>\n",
              "      <td>t</td>\n",
              "      <td>New York, NY, United States</td>\n",
              "      <td>Harlem</td>\n",
              "      <td>Harlem</td>\n",
              "      <td>...</td>\n",
              "      <td>$20.00</td>\n",
              "      <td>3</td>\n",
              "      <td>7</td>\n",
              "      <td>3</td>\n",
              "      <td>3</td>\n",
              "      <td>7</td>\n",
              "      <td>7</td>\n",
              "      <td>3.0</td>\n",
              "      <td>7.0</td>\n",
              "      <td>37 months ago</td>\n",
              "      <td>t</td>\n",
              "      <td>30</td>\n",
              "      <td>60</td>\n",
              "      <td>90</td>\n",
              "      <td>365</td>\n",
              "      <td>2019-09-13</td>\n",
              "      <td>0</td>\n",
              "      <td>0</td>\n",
              "      <td>NaN</td>\n",
              "      <td>NaN</td>\n",
              "      <td>NaN</td>\n",
              "      <td>NaN</td>\n",
              "      <td>NaN</td>\n",
              "      <td>NaN</td>\n",
              "      <td>NaN</td>\n",
              "      <td>NaN</td>\n",
              "      <td>NaN</td>\n",
              "      <td>f</td>\n",
              "      <td>NaN</td>\n",
              "      <td>NaN</td>\n",
              "      <td>f</td>\n",
              "      <td>f</td>\n",
              "      <td>strict_14_with_grace_period</td>\n",
              "      <td>t</td>\n",
              "      <td>t</td>\n",
              "      <td>1</td>\n",
              "      <td>0</td>\n",
              "      <td>1</td>\n",
              "      <td>0</td>\n",
              "      <td>NaN</td>\n",
              "    </tr>\n",
              "    <tr>\n",
              "      <th>1</th>\n",
              "      <td>3831</td>\n",
              "      <td>https://www.airbnb.com/rooms/3831</td>\n",
              "      <td>20190912153101</td>\n",
              "      <td>2019-09-13</td>\n",
              "      <td>Cozy Entire Floor of Brownstone</td>\n",
              "      <td>Urban retreat: enjoy 500 s.f. floor in 1899 br...</td>\n",
              "      <td>Greetings!      We own a double-duplex brownst...</td>\n",
              "      <td>Urban retreat: enjoy 500 s.f. floor in 1899 br...</td>\n",
              "      <td>none</td>\n",
              "      <td>Just the right mix of urban center and local n...</td>\n",
              "      <td>NaN</td>\n",
              "      <td>B52 bus for a 10-minute ride to downtown Brook...</td>\n",
              "      <td>You will have exclusive use of and access to: ...</td>\n",
              "      <td>We'll be around, but since you have the top fl...</td>\n",
              "      <td>Smoking - outside please; pets allowed but ple...</td>\n",
              "      <td>NaN</td>\n",
              "      <td>NaN</td>\n",
              "      <td>https://a0.muscache.com/im/pictures/e49999c2-9...</td>\n",
              "      <td>NaN</td>\n",
              "      <td>4869</td>\n",
              "      <td>https://www.airbnb.com/users/show/4869</td>\n",
              "      <td>LisaRoxanne</td>\n",
              "      <td>2008-12-07</td>\n",
              "      <td>New York, New York, United States</td>\n",
              "      <td>Laid-back bi-coastal actor/professor/attorney.</td>\n",
              "      <td>within an hour</td>\n",
              "      <td>92%</td>\n",
              "      <td>NaN</td>\n",
              "      <td>f</td>\n",
              "      <td>https://a0.muscache.com/im/users/4869/profile_...</td>\n",
              "      <td>https://a0.muscache.com/im/users/4869/profile_...</td>\n",
              "      <td>Clinton Hill</td>\n",
              "      <td>1.0</td>\n",
              "      <td>1.0</td>\n",
              "      <td>['email', 'phone', 'reviews', 'kba']</td>\n",
              "      <td>t</td>\n",
              "      <td>t</td>\n",
              "      <td>Brooklyn, NY, United States</td>\n",
              "      <td>Brooklyn</td>\n",
              "      <td>Clinton Hill</td>\n",
              "      <td>...</td>\n",
              "      <td>$0.00</td>\n",
              "      <td>1</td>\n",
              "      <td>730</td>\n",
              "      <td>1</td>\n",
              "      <td>1</td>\n",
              "      <td>730</td>\n",
              "      <td>730</td>\n",
              "      <td>1.0</td>\n",
              "      <td>730.0</td>\n",
              "      <td>3 days ago</td>\n",
              "      <td>t</td>\n",
              "      <td>1</td>\n",
              "      <td>3</td>\n",
              "      <td>8</td>\n",
              "      <td>192</td>\n",
              "      <td>2019-09-13</td>\n",
              "      <td>279</td>\n",
              "      <td>67</td>\n",
              "      <td>2014-09-30</td>\n",
              "      <td>2019-08-29</td>\n",
              "      <td>90.0</td>\n",
              "      <td>9.0</td>\n",
              "      <td>9.0</td>\n",
              "      <td>10.0</td>\n",
              "      <td>9.0</td>\n",
              "      <td>10.0</td>\n",
              "      <td>9.0</td>\n",
              "      <td>f</td>\n",
              "      <td>NaN</td>\n",
              "      <td>NaN</td>\n",
              "      <td>f</td>\n",
              "      <td>f</td>\n",
              "      <td>moderate</td>\n",
              "      <td>f</td>\n",
              "      <td>f</td>\n",
              "      <td>1</td>\n",
              "      <td>1</td>\n",
              "      <td>0</td>\n",
              "      <td>0</td>\n",
              "      <td>4.62</td>\n",
              "    </tr>\n",
              "    <tr>\n",
              "      <th>2</th>\n",
              "      <td>5022</td>\n",
              "      <td>https://www.airbnb.com/rooms/5022</td>\n",
              "      <td>20190912153101</td>\n",
              "      <td>2019-09-13</td>\n",
              "      <td>Entire Apt: Spacious Studio/Loft by central park</td>\n",
              "      <td>NaN</td>\n",
              "      <td>Loft apartment with high ceiling and wood floo...</td>\n",
              "      <td>Loft apartment with high ceiling and wood floo...</td>\n",
              "      <td>none</td>\n",
              "      <td>NaN</td>\n",
              "      <td>NaN</td>\n",
              "      <td>NaN</td>\n",
              "      <td>NaN</td>\n",
              "      <td>NaN</td>\n",
              "      <td>Please be considerate when staying in the apar...</td>\n",
              "      <td>NaN</td>\n",
              "      <td>NaN</td>\n",
              "      <td>https://a0.muscache.com/im/pictures/feb453bd-f...</td>\n",
              "      <td>NaN</td>\n",
              "      <td>7192</td>\n",
              "      <td>https://www.airbnb.com/users/show/7192</td>\n",
              "      <td>Laura</td>\n",
              "      <td>2009-01-29</td>\n",
              "      <td>Miami, Florida, United States</td>\n",
              "      <td>I have been a NYer for almost 10 years. I came...</td>\n",
              "      <td>NaN</td>\n",
              "      <td>NaN</td>\n",
              "      <td>NaN</td>\n",
              "      <td>f</td>\n",
              "      <td>https://a0.muscache.com/im/users/7192/profile_...</td>\n",
              "      <td>https://a0.muscache.com/im/users/7192/profile_...</td>\n",
              "      <td>East Harlem</td>\n",
              "      <td>1.0</td>\n",
              "      <td>1.0</td>\n",
              "      <td>['email', 'phone', 'facebook', 'reviews', 'kba']</td>\n",
              "      <td>t</td>\n",
              "      <td>t</td>\n",
              "      <td>New York, NY, United States</td>\n",
              "      <td>East Harlem</td>\n",
              "      <td>East Harlem</td>\n",
              "      <td>...</td>\n",
              "      <td>$20.00</td>\n",
              "      <td>10</td>\n",
              "      <td>120</td>\n",
              "      <td>10</td>\n",
              "      <td>10</td>\n",
              "      <td>120</td>\n",
              "      <td>120</td>\n",
              "      <td>10.0</td>\n",
              "      <td>120.0</td>\n",
              "      <td>6 months ago</td>\n",
              "      <td>t</td>\n",
              "      <td>0</td>\n",
              "      <td>0</td>\n",
              "      <td>0</td>\n",
              "      <td>0</td>\n",
              "      <td>2019-09-13</td>\n",
              "      <td>9</td>\n",
              "      <td>2</td>\n",
              "      <td>2012-03-20</td>\n",
              "      <td>2018-11-19</td>\n",
              "      <td>93.0</td>\n",
              "      <td>10.0</td>\n",
              "      <td>9.0</td>\n",
              "      <td>10.0</td>\n",
              "      <td>10.0</td>\n",
              "      <td>9.0</td>\n",
              "      <td>10.0</td>\n",
              "      <td>f</td>\n",
              "      <td>NaN</td>\n",
              "      <td>NaN</td>\n",
              "      <td>f</td>\n",
              "      <td>f</td>\n",
              "      <td>strict_14_with_grace_period</td>\n",
              "      <td>t</td>\n",
              "      <td>t</td>\n",
              "      <td>1</td>\n",
              "      <td>1</td>\n",
              "      <td>0</td>\n",
              "      <td>0</td>\n",
              "      <td>0.10</td>\n",
              "    </tr>\n",
              "    <tr>\n",
              "      <th>3</th>\n",
              "      <td>5099</td>\n",
              "      <td>https://www.airbnb.com/rooms/5099</td>\n",
              "      <td>20190912153101</td>\n",
              "      <td>2019-09-13</td>\n",
              "      <td>Large Cozy 1 BR Apartment In Midtown East</td>\n",
              "      <td>My large 1 bedroom apartment has a true New Yo...</td>\n",
              "      <td>I have a large 1 bedroom apartment centrally l...</td>\n",
              "      <td>My large 1 bedroom apartment has a true New Yo...</td>\n",
              "      <td>none</td>\n",
              "      <td>My neighborhood in Midtown East is called Murr...</td>\n",
              "      <td>Read My Full Listing For All Information. New ...</td>\n",
              "      <td>From the apartment is a 10 minute walk to Gran...</td>\n",
              "      <td>I will meet you upon arrival.</td>\n",
              "      <td>I usually check in with guests via text or ema...</td>\n",
              "      <td>• Check-in time is 2PM. • Check-out time is 12...</td>\n",
              "      <td>NaN</td>\n",
              "      <td>NaN</td>\n",
              "      <td>https://a0.muscache.com/im/pictures/6b9804f2-1...</td>\n",
              "      <td>NaN</td>\n",
              "      <td>7322</td>\n",
              "      <td>https://www.airbnb.com/users/show/7322</td>\n",
              "      <td>Chris</td>\n",
              "      <td>2009-02-02</td>\n",
              "      <td>New York, New York, United States</td>\n",
              "      <td>I'm an artist, writer, traveler, and a native ...</td>\n",
              "      <td>within a day</td>\n",
              "      <td>78%</td>\n",
              "      <td>NaN</td>\n",
              "      <td>f</td>\n",
              "      <td>https://a0.muscache.com/im/pictures/user/26745...</td>\n",
              "      <td>https://a0.muscache.com/im/pictures/user/26745...</td>\n",
              "      <td>Flatiron District</td>\n",
              "      <td>1.0</td>\n",
              "      <td>1.0</td>\n",
              "      <td>['email', 'phone', 'reviews', 'jumio', 'govern...</td>\n",
              "      <td>t</td>\n",
              "      <td>f</td>\n",
              "      <td>New York, NY, United States</td>\n",
              "      <td>Midtown East</td>\n",
              "      <td>Murray Hill</td>\n",
              "      <td>...</td>\n",
              "      <td>$100.00</td>\n",
              "      <td>3</td>\n",
              "      <td>21</td>\n",
              "      <td>3</td>\n",
              "      <td>3</td>\n",
              "      <td>21</td>\n",
              "      <td>21</td>\n",
              "      <td>3.0</td>\n",
              "      <td>21.0</td>\n",
              "      <td>today</td>\n",
              "      <td>t</td>\n",
              "      <td>3</td>\n",
              "      <td>3</td>\n",
              "      <td>13</td>\n",
              "      <td>13</td>\n",
              "      <td>2019-09-13</td>\n",
              "      <td>75</td>\n",
              "      <td>10</td>\n",
              "      <td>2009-04-20</td>\n",
              "      <td>2019-07-21</td>\n",
              "      <td>89.0</td>\n",
              "      <td>10.0</td>\n",
              "      <td>9.0</td>\n",
              "      <td>10.0</td>\n",
              "      <td>10.0</td>\n",
              "      <td>9.0</td>\n",
              "      <td>9.0</td>\n",
              "      <td>f</td>\n",
              "      <td>NaN</td>\n",
              "      <td>NaN</td>\n",
              "      <td>f</td>\n",
              "      <td>f</td>\n",
              "      <td>moderate</td>\n",
              "      <td>t</td>\n",
              "      <td>t</td>\n",
              "      <td>1</td>\n",
              "      <td>1</td>\n",
              "      <td>0</td>\n",
              "      <td>0</td>\n",
              "      <td>0.59</td>\n",
              "    </tr>\n",
              "    <tr>\n",
              "      <th>4</th>\n",
              "      <td>5121</td>\n",
              "      <td>https://www.airbnb.com/rooms/5121</td>\n",
              "      <td>20190912153101</td>\n",
              "      <td>2019-09-13</td>\n",
              "      <td>BlissArtsSpace!</td>\n",
              "      <td>NaN</td>\n",
              "      <td>HELLO EVERYONE AND THANKS FOR VISITING BLISS A...</td>\n",
              "      <td>HELLO EVERYONE AND THANKS FOR VISITING BLISS A...</td>\n",
              "      <td>none</td>\n",
              "      <td>NaN</td>\n",
              "      <td>NaN</td>\n",
              "      <td>NaN</td>\n",
              "      <td>NaN</td>\n",
              "      <td>NaN</td>\n",
              "      <td>NaN</td>\n",
              "      <td>NaN</td>\n",
              "      <td>NaN</td>\n",
              "      <td>https://a0.muscache.com/im/pictures/2090980c-b...</td>\n",
              "      <td>NaN</td>\n",
              "      <td>7356</td>\n",
              "      <td>https://www.airbnb.com/users/show/7356</td>\n",
              "      <td>Garon</td>\n",
              "      <td>2009-02-03</td>\n",
              "      <td>New York, New York, United States</td>\n",
              "      <td>I am an artist(painter, filmmaker) and curato...</td>\n",
              "      <td>a few days or more</td>\n",
              "      <td>0%</td>\n",
              "      <td>NaN</td>\n",
              "      <td>f</td>\n",
              "      <td>https://a0.muscache.com/im/pictures/72a61bea-c...</td>\n",
              "      <td>https://a0.muscache.com/im/pictures/72a61bea-c...</td>\n",
              "      <td>Bedford-Stuyvesant</td>\n",
              "      <td>1.0</td>\n",
              "      <td>1.0</td>\n",
              "      <td>['email', 'phone', 'facebook', 'reviews', 'off...</td>\n",
              "      <td>t</td>\n",
              "      <td>f</td>\n",
              "      <td>Brooklyn, NY, United States</td>\n",
              "      <td>Bedford-Stuyvesant</td>\n",
              "      <td>Bedford-Stuyvesant</td>\n",
              "      <td>...</td>\n",
              "      <td>$30.00</td>\n",
              "      <td>45</td>\n",
              "      <td>730</td>\n",
              "      <td>45</td>\n",
              "      <td>45</td>\n",
              "      <td>730</td>\n",
              "      <td>730</td>\n",
              "      <td>45.0</td>\n",
              "      <td>730.0</td>\n",
              "      <td>20 months ago</td>\n",
              "      <td>t</td>\n",
              "      <td>0</td>\n",
              "      <td>0</td>\n",
              "      <td>0</td>\n",
              "      <td>0</td>\n",
              "      <td>2019-09-13</td>\n",
              "      <td>49</td>\n",
              "      <td>0</td>\n",
              "      <td>2009-05-28</td>\n",
              "      <td>2017-10-05</td>\n",
              "      <td>90.0</td>\n",
              "      <td>8.0</td>\n",
              "      <td>8.0</td>\n",
              "      <td>10.0</td>\n",
              "      <td>10.0</td>\n",
              "      <td>9.0</td>\n",
              "      <td>9.0</td>\n",
              "      <td>f</td>\n",
              "      <td>NaN</td>\n",
              "      <td>NaN</td>\n",
              "      <td>f</td>\n",
              "      <td>f</td>\n",
              "      <td>strict_14_with_grace_period</td>\n",
              "      <td>f</td>\n",
              "      <td>f</td>\n",
              "      <td>1</td>\n",
              "      <td>0</td>\n",
              "      <td>1</td>\n",
              "      <td>0</td>\n",
              "      <td>0.39</td>\n",
              "    </tr>\n",
              "  </tbody>\n",
              "</table>\n",
              "<p>5 rows × 106 columns</p>\n",
              "</div>"
            ],
            "text/plain": [
              "     id  ... reviews_per_month\n",
              "0  3647  ...               NaN\n",
              "1  3831  ...              4.62\n",
              "2  5022  ...              0.10\n",
              "3  5099  ...              0.59\n",
              "4  5121  ...              0.39\n",
              "\n",
              "[5 rows x 106 columns]"
            ]
          },
          "metadata": {
            "tags": []
          },
          "execution_count": 5
        }
      ]
    },
    {
      "cell_type": "code",
      "metadata": {
        "id": "3NlvcW97oh6h",
        "colab_type": "code",
        "colab": {}
      },
      "source": [
        "list1= list(df.dtypes)"
      ],
      "execution_count": 0,
      "outputs": []
    },
    {
      "cell_type": "code",
      "metadata": {
        "id": "PPPifEX7pFTD",
        "colab_type": "code",
        "colab": {}
      },
      "source": [
        "list2=list(df.columns)"
      ],
      "execution_count": 0,
      "outputs": []
    },
    {
      "cell_type": "code",
      "metadata": {
        "id": "zkpH-ZXLomfu",
        "colab_type": "code",
        "colab": {}
      },
      "source": [
        "a=zip(list2,list1)"
      ],
      "execution_count": 0,
      "outputs": []
    },
    {
      "cell_type": "code",
      "metadata": {
        "id": "Ip_FKXBXuCzb",
        "colab_type": "code",
        "outputId": "8a042480-f19c-4006-b4af-c5b1fa6f0423",
        "colab": {
          "base_uri": "https://localhost:8080/",
          "height": 194
        }
      },
      "source": [
        "df.columns"
      ],
      "execution_count": 9,
      "outputs": [
        {
          "output_type": "execute_result",
          "data": {
            "text/plain": [
              "Index(['id', 'listing_url', 'scrape_id', 'last_scraped', 'name', 'summary',\n",
              "       'space', 'description', 'experiences_offered', 'neighborhood_overview',\n",
              "       ...\n",
              "       'instant_bookable', 'is_business_travel_ready', 'cancellation_policy',\n",
              "       'require_guest_profile_picture', 'require_guest_phone_verification',\n",
              "       'calculated_host_listings_count',\n",
              "       'calculated_host_listings_count_entire_homes',\n",
              "       'calculated_host_listings_count_private_rooms',\n",
              "       'calculated_host_listings_count_shared_rooms', 'reviews_per_month'],\n",
              "      dtype='object', length=106)"
            ]
          },
          "metadata": {
            "tags": []
          },
          "execution_count": 9
        }
      ]
    },
    {
      "cell_type": "code",
      "metadata": {
        "id": "w48xwSjgo68T",
        "colab_type": "code",
        "outputId": "f63a49c0-9f46-446b-e3b0-d03f0a72e6ef",
        "colab": {
          "base_uri": "https://localhost:8080/",
          "height": 1000
        }
      },
      "source": [
        "for col,types in a:\n",
        "  print(col,types)"
      ],
      "execution_count": 10,
      "outputs": [
        {
          "output_type": "stream",
          "text": [
            "id int64\n",
            "listing_url object\n",
            "scrape_id int64\n",
            "last_scraped object\n",
            "name object\n",
            "summary object\n",
            "space object\n",
            "description object\n",
            "experiences_offered object\n",
            "neighborhood_overview object\n",
            "notes object\n",
            "transit object\n",
            "access object\n",
            "interaction object\n",
            "house_rules object\n",
            "thumbnail_url float64\n",
            "medium_url float64\n",
            "picture_url object\n",
            "xl_picture_url float64\n",
            "host_id int64\n",
            "host_url object\n",
            "host_name object\n",
            "host_since object\n",
            "host_location object\n",
            "host_about object\n",
            "host_response_time object\n",
            "host_response_rate object\n",
            "host_acceptance_rate float64\n",
            "host_is_superhost object\n",
            "host_thumbnail_url object\n",
            "host_picture_url object\n",
            "host_neighbourhood object\n",
            "host_listings_count float64\n",
            "host_total_listings_count float64\n",
            "host_verifications object\n",
            "host_has_profile_pic object\n",
            "host_identity_verified object\n",
            "street object\n",
            "neighbourhood object\n",
            "neighbourhood_cleansed object\n",
            "neighbourhood_group_cleansed object\n",
            "city object\n",
            "state object\n",
            "zipcode object\n",
            "market object\n",
            "smart_location object\n",
            "country_code object\n",
            "country object\n",
            "latitude float64\n",
            "longitude float64\n",
            "is_location_exact object\n",
            "property_type object\n",
            "room_type object\n",
            "accommodates int64\n",
            "bathrooms float64\n",
            "bedrooms float64\n",
            "beds float64\n",
            "bed_type object\n",
            "amenities object\n",
            "square_feet float64\n",
            "price object\n",
            "weekly_price object\n",
            "monthly_price object\n",
            "security_deposit object\n",
            "cleaning_fee object\n",
            "guests_included int64\n",
            "extra_people object\n",
            "minimum_nights int64\n",
            "maximum_nights int64\n",
            "minimum_minimum_nights int64\n",
            "maximum_minimum_nights int64\n",
            "minimum_maximum_nights int64\n",
            "maximum_maximum_nights int64\n",
            "minimum_nights_avg_ntm float64\n",
            "maximum_nights_avg_ntm float64\n",
            "calendar_updated object\n",
            "has_availability object\n",
            "availability_30 int64\n",
            "availability_60 int64\n",
            "availability_90 int64\n",
            "availability_365 int64\n",
            "calendar_last_scraped object\n",
            "number_of_reviews int64\n",
            "number_of_reviews_ltm int64\n",
            "first_review object\n",
            "last_review object\n",
            "review_scores_rating float64\n",
            "review_scores_accuracy float64\n",
            "review_scores_cleanliness float64\n",
            "review_scores_checkin float64\n",
            "review_scores_communication float64\n",
            "review_scores_location float64\n",
            "review_scores_value float64\n",
            "requires_license object\n",
            "license object\n",
            "jurisdiction_names object\n",
            "instant_bookable object\n",
            "is_business_travel_ready object\n",
            "cancellation_policy object\n",
            "require_guest_profile_picture object\n",
            "require_guest_phone_verification object\n",
            "calculated_host_listings_count int64\n",
            "calculated_host_listings_count_entire_homes int64\n",
            "calculated_host_listings_count_private_rooms int64\n",
            "calculated_host_listings_count_shared_rooms int64\n",
            "reviews_per_month float64\n"
          ],
          "name": "stdout"
        }
      ]
    },
    {
      "cell_type": "code",
      "metadata": {
        "id": "T2rb0assprSo",
        "colab_type": "code",
        "colab": {}
      },
      "source": [
        "required_col= ['neighbourhood_cleansed','zipcode','market','property_type','room_type','city','state','accommodates','bedrooms','beds','bed_type','price','number_of_reviews',\n",
        "'review_scores_rating','review_scores_accuracy', 'review_scores_cleanliness',\n",
        " 'review_scores_checkin', 'review_scores_communication','review_scores_location', 'review_scores_value',\n",
        " 'host_listings_count','is_location_exact','availability_30','minimum_nights','latitude','longitude','bathrooms']\n"
      ],
      "execution_count": 0,
      "outputs": []
    },
    {
      "cell_type": "code",
      "metadata": {
        "id": "dajnXabAsk3E",
        "colab_type": "code",
        "colab": {}
      },
      "source": [
        "df1=df[required_col]\n",
        "df1=df1[df1['price']!=0.00]\n"
      ],
      "execution_count": 0,
      "outputs": []
    },
    {
      "cell_type": "code",
      "metadata": {
        "id": "nzYzuKyfspj1",
        "colab_type": "code",
        "outputId": "2e772efa-ec8d-44a6-e4a2-0b3f9f46b8c2",
        "colab": {
          "base_uri": "https://localhost:8080/",
          "height": 301
        }
      },
      "source": [
        "df1.head()"
      ],
      "execution_count": 13,
      "outputs": [
        {
          "output_type": "execute_result",
          "data": {
            "text/html": [
              "<div>\n",
              "<style scoped>\n",
              "    .dataframe tbody tr th:only-of-type {\n",
              "        vertical-align: middle;\n",
              "    }\n",
              "\n",
              "    .dataframe tbody tr th {\n",
              "        vertical-align: top;\n",
              "    }\n",
              "\n",
              "    .dataframe thead th {\n",
              "        text-align: right;\n",
              "    }\n",
              "</style>\n",
              "<table border=\"1\" class=\"dataframe\">\n",
              "  <thead>\n",
              "    <tr style=\"text-align: right;\">\n",
              "      <th></th>\n",
              "      <th>neighbourhood_cleansed</th>\n",
              "      <th>zipcode</th>\n",
              "      <th>market</th>\n",
              "      <th>property_type</th>\n",
              "      <th>room_type</th>\n",
              "      <th>city</th>\n",
              "      <th>state</th>\n",
              "      <th>accommodates</th>\n",
              "      <th>bedrooms</th>\n",
              "      <th>beds</th>\n",
              "      <th>bed_type</th>\n",
              "      <th>price</th>\n",
              "      <th>number_of_reviews</th>\n",
              "      <th>review_scores_rating</th>\n",
              "      <th>review_scores_accuracy</th>\n",
              "      <th>review_scores_cleanliness</th>\n",
              "      <th>review_scores_checkin</th>\n",
              "      <th>review_scores_communication</th>\n",
              "      <th>review_scores_location</th>\n",
              "      <th>review_scores_value</th>\n",
              "      <th>host_listings_count</th>\n",
              "      <th>is_location_exact</th>\n",
              "      <th>availability_30</th>\n",
              "      <th>minimum_nights</th>\n",
              "      <th>latitude</th>\n",
              "      <th>longitude</th>\n",
              "      <th>bathrooms</th>\n",
              "    </tr>\n",
              "  </thead>\n",
              "  <tbody>\n",
              "    <tr>\n",
              "      <th>0</th>\n",
              "      <td>Harlem</td>\n",
              "      <td>10027</td>\n",
              "      <td>New York</td>\n",
              "      <td>Apartment</td>\n",
              "      <td>Private room</td>\n",
              "      <td>New York</td>\n",
              "      <td>NY</td>\n",
              "      <td>2</td>\n",
              "      <td>1.0</td>\n",
              "      <td>1.0</td>\n",
              "      <td>Pull-out Sofa</td>\n",
              "      <td>$150.00</td>\n",
              "      <td>0</td>\n",
              "      <td>NaN</td>\n",
              "      <td>NaN</td>\n",
              "      <td>NaN</td>\n",
              "      <td>NaN</td>\n",
              "      <td>NaN</td>\n",
              "      <td>NaN</td>\n",
              "      <td>NaN</td>\n",
              "      <td>1.0</td>\n",
              "      <td>t</td>\n",
              "      <td>30</td>\n",
              "      <td>3</td>\n",
              "      <td>40.80902</td>\n",
              "      <td>-73.94190</td>\n",
              "      <td>1.0</td>\n",
              "    </tr>\n",
              "    <tr>\n",
              "      <th>1</th>\n",
              "      <td>Clinton Hill</td>\n",
              "      <td>11238</td>\n",
              "      <td>New York</td>\n",
              "      <td>Guest suite</td>\n",
              "      <td>Entire home/apt</td>\n",
              "      <td>Brooklyn</td>\n",
              "      <td>NY</td>\n",
              "      <td>3</td>\n",
              "      <td>1.0</td>\n",
              "      <td>4.0</td>\n",
              "      <td>Real Bed</td>\n",
              "      <td>$89.00</td>\n",
              "      <td>279</td>\n",
              "      <td>90.0</td>\n",
              "      <td>9.0</td>\n",
              "      <td>9.0</td>\n",
              "      <td>10.0</td>\n",
              "      <td>9.0</td>\n",
              "      <td>10.0</td>\n",
              "      <td>9.0</td>\n",
              "      <td>1.0</td>\n",
              "      <td>t</td>\n",
              "      <td>1</td>\n",
              "      <td>1</td>\n",
              "      <td>40.68514</td>\n",
              "      <td>-73.95976</td>\n",
              "      <td>1.0</td>\n",
              "    </tr>\n",
              "    <tr>\n",
              "      <th>2</th>\n",
              "      <td>East Harlem</td>\n",
              "      <td>10029</td>\n",
              "      <td>New York</td>\n",
              "      <td>Apartment</td>\n",
              "      <td>Entire home/apt</td>\n",
              "      <td>New York</td>\n",
              "      <td>NY</td>\n",
              "      <td>1</td>\n",
              "      <td>NaN</td>\n",
              "      <td>1.0</td>\n",
              "      <td>Real Bed</td>\n",
              "      <td>$80.00</td>\n",
              "      <td>9</td>\n",
              "      <td>93.0</td>\n",
              "      <td>10.0</td>\n",
              "      <td>9.0</td>\n",
              "      <td>10.0</td>\n",
              "      <td>10.0</td>\n",
              "      <td>9.0</td>\n",
              "      <td>10.0</td>\n",
              "      <td>1.0</td>\n",
              "      <td>t</td>\n",
              "      <td>0</td>\n",
              "      <td>10</td>\n",
              "      <td>40.79851</td>\n",
              "      <td>-73.94399</td>\n",
              "      <td>1.0</td>\n",
              "    </tr>\n",
              "    <tr>\n",
              "      <th>3</th>\n",
              "      <td>Murray Hill</td>\n",
              "      <td>10016</td>\n",
              "      <td>New York</td>\n",
              "      <td>Apartment</td>\n",
              "      <td>Entire home/apt</td>\n",
              "      <td>New York</td>\n",
              "      <td>NY</td>\n",
              "      <td>2</td>\n",
              "      <td>1.0</td>\n",
              "      <td>1.0</td>\n",
              "      <td>Real Bed</td>\n",
              "      <td>$200.00</td>\n",
              "      <td>75</td>\n",
              "      <td>89.0</td>\n",
              "      <td>10.0</td>\n",
              "      <td>9.0</td>\n",
              "      <td>10.0</td>\n",
              "      <td>10.0</td>\n",
              "      <td>9.0</td>\n",
              "      <td>9.0</td>\n",
              "      <td>1.0</td>\n",
              "      <td>f</td>\n",
              "      <td>3</td>\n",
              "      <td>3</td>\n",
              "      <td>40.74767</td>\n",
              "      <td>-73.97500</td>\n",
              "      <td>1.0</td>\n",
              "    </tr>\n",
              "    <tr>\n",
              "      <th>4</th>\n",
              "      <td>Bedford-Stuyvesant</td>\n",
              "      <td>11216</td>\n",
              "      <td>New York</td>\n",
              "      <td>Apartment</td>\n",
              "      <td>Private room</td>\n",
              "      <td>Brooklyn</td>\n",
              "      <td>NY</td>\n",
              "      <td>2</td>\n",
              "      <td>1.0</td>\n",
              "      <td>1.0</td>\n",
              "      <td>Futon</td>\n",
              "      <td>$60.00</td>\n",
              "      <td>49</td>\n",
              "      <td>90.0</td>\n",
              "      <td>8.0</td>\n",
              "      <td>8.0</td>\n",
              "      <td>10.0</td>\n",
              "      <td>10.0</td>\n",
              "      <td>9.0</td>\n",
              "      <td>9.0</td>\n",
              "      <td>1.0</td>\n",
              "      <td>f</td>\n",
              "      <td>0</td>\n",
              "      <td>45</td>\n",
              "      <td>40.68688</td>\n",
              "      <td>-73.95596</td>\n",
              "      <td>NaN</td>\n",
              "    </tr>\n",
              "  </tbody>\n",
              "</table>\n",
              "</div>"
            ],
            "text/plain": [
              "  neighbourhood_cleansed zipcode    market  ...  latitude longitude bathrooms\n",
              "0                 Harlem   10027  New York  ...  40.80902 -73.94190       1.0\n",
              "1           Clinton Hill   11238  New York  ...  40.68514 -73.95976       1.0\n",
              "2            East Harlem   10029  New York  ...  40.79851 -73.94399       1.0\n",
              "3            Murray Hill   10016  New York  ...  40.74767 -73.97500       1.0\n",
              "4     Bedford-Stuyvesant   11216  New York  ...  40.68688 -73.95596       NaN\n",
              "\n",
              "[5 rows x 27 columns]"
            ]
          },
          "metadata": {
            "tags": []
          },
          "execution_count": 13
        }
      ]
    },
    {
      "cell_type": "code",
      "metadata": {
        "id": "SzmHlDo6qnZ8",
        "colab_type": "code",
        "colab": {}
      },
      "source": [
        "df1['price'] = df1['price'].replace('[\\$,)]','', regex=True).astype('float')"
      ],
      "execution_count": 0,
      "outputs": []
    },
    {
      "cell_type": "code",
      "metadata": {
        "id": "UdrgkFIrFYCu",
        "colab_type": "code",
        "outputId": "8cac9455-bbd7-4b50-c7d1-9bdaf5a572a8",
        "colab": {
          "base_uri": "https://localhost:8080/",
          "height": 34
        }
      },
      "source": [
        "(df1['price']==0.00).sum()"
      ],
      "execution_count": 15,
      "outputs": [
        {
          "output_type": "execute_result",
          "data": {
            "text/plain": [
              "10"
            ]
          },
          "metadata": {
            "tags": []
          },
          "execution_count": 15
        }
      ]
    },
    {
      "cell_type": "code",
      "metadata": {
        "id": "WgUqeo26EwXx",
        "colab_type": "code",
        "colab": {}
      },
      "source": [
        "df1['price']=df1['price'].replace(0,df1['price'].mean())"
      ],
      "execution_count": 0,
      "outputs": []
    },
    {
      "cell_type": "code",
      "metadata": {
        "id": "nFFFjShjJk9B",
        "colab_type": "code",
        "outputId": "06b2ce7f-5275-4ced-85c9-d50d06392ea2",
        "colab": {
          "base_uri": "https://localhost:8080/",
          "height": 34
        }
      },
      "source": [
        "(df1['price']==0.00).sum()\n"
      ],
      "execution_count": 17,
      "outputs": [
        {
          "output_type": "execute_result",
          "data": {
            "text/plain": [
              "0"
            ]
          },
          "metadata": {
            "tags": []
          },
          "execution_count": 17
        }
      ]
    },
    {
      "cell_type": "code",
      "metadata": {
        "id": "65KHNpfEOO3m",
        "colab_type": "code",
        "colab": {}
      },
      "source": [
        "import numpy as np\n",
        "df1['log_price'] = np.log(df1['price'].values)\n",
        "\n"
      ],
      "execution_count": 0,
      "outputs": []
    },
    {
      "cell_type": "code",
      "metadata": {
        "id": "EyqOAVGxGumq",
        "colab_type": "code",
        "outputId": "d4a041f3-dbc6-43d7-9cc4-4c262cb45d9b",
        "colab": {
          "base_uri": "https://localhost:8080/",
          "height": 301
        }
      },
      "source": [
        "df1.head()"
      ],
      "execution_count": 19,
      "outputs": [
        {
          "output_type": "execute_result",
          "data": {
            "text/html": [
              "<div>\n",
              "<style scoped>\n",
              "    .dataframe tbody tr th:only-of-type {\n",
              "        vertical-align: middle;\n",
              "    }\n",
              "\n",
              "    .dataframe tbody tr th {\n",
              "        vertical-align: top;\n",
              "    }\n",
              "\n",
              "    .dataframe thead th {\n",
              "        text-align: right;\n",
              "    }\n",
              "</style>\n",
              "<table border=\"1\" class=\"dataframe\">\n",
              "  <thead>\n",
              "    <tr style=\"text-align: right;\">\n",
              "      <th></th>\n",
              "      <th>neighbourhood_cleansed</th>\n",
              "      <th>zipcode</th>\n",
              "      <th>market</th>\n",
              "      <th>property_type</th>\n",
              "      <th>room_type</th>\n",
              "      <th>city</th>\n",
              "      <th>state</th>\n",
              "      <th>accommodates</th>\n",
              "      <th>bedrooms</th>\n",
              "      <th>beds</th>\n",
              "      <th>bed_type</th>\n",
              "      <th>price</th>\n",
              "      <th>number_of_reviews</th>\n",
              "      <th>review_scores_rating</th>\n",
              "      <th>review_scores_accuracy</th>\n",
              "      <th>review_scores_cleanliness</th>\n",
              "      <th>review_scores_checkin</th>\n",
              "      <th>review_scores_communication</th>\n",
              "      <th>review_scores_location</th>\n",
              "      <th>review_scores_value</th>\n",
              "      <th>host_listings_count</th>\n",
              "      <th>is_location_exact</th>\n",
              "      <th>availability_30</th>\n",
              "      <th>minimum_nights</th>\n",
              "      <th>latitude</th>\n",
              "      <th>longitude</th>\n",
              "      <th>bathrooms</th>\n",
              "      <th>log_price</th>\n",
              "    </tr>\n",
              "  </thead>\n",
              "  <tbody>\n",
              "    <tr>\n",
              "      <th>0</th>\n",
              "      <td>Harlem</td>\n",
              "      <td>10027</td>\n",
              "      <td>New York</td>\n",
              "      <td>Apartment</td>\n",
              "      <td>Private room</td>\n",
              "      <td>New York</td>\n",
              "      <td>NY</td>\n",
              "      <td>2</td>\n",
              "      <td>1.0</td>\n",
              "      <td>1.0</td>\n",
              "      <td>Pull-out Sofa</td>\n",
              "      <td>150.0</td>\n",
              "      <td>0</td>\n",
              "      <td>NaN</td>\n",
              "      <td>NaN</td>\n",
              "      <td>NaN</td>\n",
              "      <td>NaN</td>\n",
              "      <td>NaN</td>\n",
              "      <td>NaN</td>\n",
              "      <td>NaN</td>\n",
              "      <td>1.0</td>\n",
              "      <td>t</td>\n",
              "      <td>30</td>\n",
              "      <td>3</td>\n",
              "      <td>40.80902</td>\n",
              "      <td>-73.94190</td>\n",
              "      <td>1.0</td>\n",
              "      <td>5.010635</td>\n",
              "    </tr>\n",
              "    <tr>\n",
              "      <th>1</th>\n",
              "      <td>Clinton Hill</td>\n",
              "      <td>11238</td>\n",
              "      <td>New York</td>\n",
              "      <td>Guest suite</td>\n",
              "      <td>Entire home/apt</td>\n",
              "      <td>Brooklyn</td>\n",
              "      <td>NY</td>\n",
              "      <td>3</td>\n",
              "      <td>1.0</td>\n",
              "      <td>4.0</td>\n",
              "      <td>Real Bed</td>\n",
              "      <td>89.0</td>\n",
              "      <td>279</td>\n",
              "      <td>90.0</td>\n",
              "      <td>9.0</td>\n",
              "      <td>9.0</td>\n",
              "      <td>10.0</td>\n",
              "      <td>9.0</td>\n",
              "      <td>10.0</td>\n",
              "      <td>9.0</td>\n",
              "      <td>1.0</td>\n",
              "      <td>t</td>\n",
              "      <td>1</td>\n",
              "      <td>1</td>\n",
              "      <td>40.68514</td>\n",
              "      <td>-73.95976</td>\n",
              "      <td>1.0</td>\n",
              "      <td>4.488636</td>\n",
              "    </tr>\n",
              "    <tr>\n",
              "      <th>2</th>\n",
              "      <td>East Harlem</td>\n",
              "      <td>10029</td>\n",
              "      <td>New York</td>\n",
              "      <td>Apartment</td>\n",
              "      <td>Entire home/apt</td>\n",
              "      <td>New York</td>\n",
              "      <td>NY</td>\n",
              "      <td>1</td>\n",
              "      <td>NaN</td>\n",
              "      <td>1.0</td>\n",
              "      <td>Real Bed</td>\n",
              "      <td>80.0</td>\n",
              "      <td>9</td>\n",
              "      <td>93.0</td>\n",
              "      <td>10.0</td>\n",
              "      <td>9.0</td>\n",
              "      <td>10.0</td>\n",
              "      <td>10.0</td>\n",
              "      <td>9.0</td>\n",
              "      <td>10.0</td>\n",
              "      <td>1.0</td>\n",
              "      <td>t</td>\n",
              "      <td>0</td>\n",
              "      <td>10</td>\n",
              "      <td>40.79851</td>\n",
              "      <td>-73.94399</td>\n",
              "      <td>1.0</td>\n",
              "      <td>4.382027</td>\n",
              "    </tr>\n",
              "    <tr>\n",
              "      <th>3</th>\n",
              "      <td>Murray Hill</td>\n",
              "      <td>10016</td>\n",
              "      <td>New York</td>\n",
              "      <td>Apartment</td>\n",
              "      <td>Entire home/apt</td>\n",
              "      <td>New York</td>\n",
              "      <td>NY</td>\n",
              "      <td>2</td>\n",
              "      <td>1.0</td>\n",
              "      <td>1.0</td>\n",
              "      <td>Real Bed</td>\n",
              "      <td>200.0</td>\n",
              "      <td>75</td>\n",
              "      <td>89.0</td>\n",
              "      <td>10.0</td>\n",
              "      <td>9.0</td>\n",
              "      <td>10.0</td>\n",
              "      <td>10.0</td>\n",
              "      <td>9.0</td>\n",
              "      <td>9.0</td>\n",
              "      <td>1.0</td>\n",
              "      <td>f</td>\n",
              "      <td>3</td>\n",
              "      <td>3</td>\n",
              "      <td>40.74767</td>\n",
              "      <td>-73.97500</td>\n",
              "      <td>1.0</td>\n",
              "      <td>5.298317</td>\n",
              "    </tr>\n",
              "    <tr>\n",
              "      <th>4</th>\n",
              "      <td>Bedford-Stuyvesant</td>\n",
              "      <td>11216</td>\n",
              "      <td>New York</td>\n",
              "      <td>Apartment</td>\n",
              "      <td>Private room</td>\n",
              "      <td>Brooklyn</td>\n",
              "      <td>NY</td>\n",
              "      <td>2</td>\n",
              "      <td>1.0</td>\n",
              "      <td>1.0</td>\n",
              "      <td>Futon</td>\n",
              "      <td>60.0</td>\n",
              "      <td>49</td>\n",
              "      <td>90.0</td>\n",
              "      <td>8.0</td>\n",
              "      <td>8.0</td>\n",
              "      <td>10.0</td>\n",
              "      <td>10.0</td>\n",
              "      <td>9.0</td>\n",
              "      <td>9.0</td>\n",
              "      <td>1.0</td>\n",
              "      <td>f</td>\n",
              "      <td>0</td>\n",
              "      <td>45</td>\n",
              "      <td>40.68688</td>\n",
              "      <td>-73.95596</td>\n",
              "      <td>NaN</td>\n",
              "      <td>4.094345</td>\n",
              "    </tr>\n",
              "  </tbody>\n",
              "</table>\n",
              "</div>"
            ],
            "text/plain": [
              "  neighbourhood_cleansed zipcode    market  ... longitude bathrooms log_price\n",
              "0                 Harlem   10027  New York  ... -73.94190       1.0  5.010635\n",
              "1           Clinton Hill   11238  New York  ... -73.95976       1.0  4.488636\n",
              "2            East Harlem   10029  New York  ... -73.94399       1.0  4.382027\n",
              "3            Murray Hill   10016  New York  ... -73.97500       1.0  5.298317\n",
              "4     Bedford-Stuyvesant   11216  New York  ... -73.95596       NaN  4.094345\n",
              "\n",
              "[5 rows x 28 columns]"
            ]
          },
          "metadata": {
            "tags": []
          },
          "execution_count": 19
        }
      ]
    },
    {
      "cell_type": "code",
      "metadata": {
        "id": "WStRwfwC3I4m",
        "colab_type": "code",
        "colab": {}
      },
      "source": [
        "df1.to_csv('airbnb.csv')"
      ],
      "execution_count": 0,
      "outputs": []
    },
    {
      "cell_type": "code",
      "metadata": {
        "id": "cQgtQ0cRbp1c",
        "colab_type": "code",
        "colab": {}
      },
      "source": [
        "from sklearn.datasets import load_boston\n",
        "import pandas as pd\n",
        "import numpy as np\n",
        "import matplotlib\n",
        "import matplotlib.pyplot as plt\n",
        "import seaborn as sns\n",
        "import statsmodels.api as sm\n",
        "%matplotlib inline"
      ],
      "execution_count": 0,
      "outputs": []
    },
    {
      "cell_type": "code",
      "metadata": {
        "id": "pWdyuJIWbsH7",
        "colab_type": "code",
        "colab": {}
      },
      "source": [
        "df_test=df1[['zipcode','accommodates','bedrooms','beds','price','number_of_reviews',\n",
        "'review_scores_rating','review_scores_accuracy', 'review_scores_cleanliness',\n",
        " 'review_scores_checkin', 'review_scores_communication','review_scores_location', 'review_scores_value','host_listings_count','availability_30','minimum_nights','latitude','longitude','bathrooms']]"
      ],
      "execution_count": 0,
      "outputs": []
    },
    {
      "cell_type": "code",
      "metadata": {
        "id": "UFoCrNJ4rVZy",
        "colab_type": "code",
        "outputId": "8e29e21f-12b7-432c-dd23-c85ac7f5add4",
        "colab": {
          "base_uri": "https://localhost:8080/",
          "height": 217
        }
      },
      "source": [
        "x=df_test\n",
        "x = df_test.drop(\"price\",1)   #Feature Matrix\n",
        "y = df_test[\"price\"]          #Target Variable\n",
        "df_test.head()\n",
        "\n"
      ],
      "execution_count": 23,
      "outputs": [
        {
          "output_type": "execute_result",
          "data": {
            "text/html": [
              "<div>\n",
              "<style scoped>\n",
              "    .dataframe tbody tr th:only-of-type {\n",
              "        vertical-align: middle;\n",
              "    }\n",
              "\n",
              "    .dataframe tbody tr th {\n",
              "        vertical-align: top;\n",
              "    }\n",
              "\n",
              "    .dataframe thead th {\n",
              "        text-align: right;\n",
              "    }\n",
              "</style>\n",
              "<table border=\"1\" class=\"dataframe\">\n",
              "  <thead>\n",
              "    <tr style=\"text-align: right;\">\n",
              "      <th></th>\n",
              "      <th>zipcode</th>\n",
              "      <th>accommodates</th>\n",
              "      <th>bedrooms</th>\n",
              "      <th>beds</th>\n",
              "      <th>price</th>\n",
              "      <th>number_of_reviews</th>\n",
              "      <th>review_scores_rating</th>\n",
              "      <th>review_scores_accuracy</th>\n",
              "      <th>review_scores_cleanliness</th>\n",
              "      <th>review_scores_checkin</th>\n",
              "      <th>review_scores_communication</th>\n",
              "      <th>review_scores_location</th>\n",
              "      <th>review_scores_value</th>\n",
              "      <th>host_listings_count</th>\n",
              "      <th>availability_30</th>\n",
              "      <th>minimum_nights</th>\n",
              "      <th>latitude</th>\n",
              "      <th>longitude</th>\n",
              "      <th>bathrooms</th>\n",
              "    </tr>\n",
              "  </thead>\n",
              "  <tbody>\n",
              "    <tr>\n",
              "      <th>0</th>\n",
              "      <td>10027</td>\n",
              "      <td>2</td>\n",
              "      <td>1.0</td>\n",
              "      <td>1.0</td>\n",
              "      <td>150.0</td>\n",
              "      <td>0</td>\n",
              "      <td>NaN</td>\n",
              "      <td>NaN</td>\n",
              "      <td>NaN</td>\n",
              "      <td>NaN</td>\n",
              "      <td>NaN</td>\n",
              "      <td>NaN</td>\n",
              "      <td>NaN</td>\n",
              "      <td>1.0</td>\n",
              "      <td>30</td>\n",
              "      <td>3</td>\n",
              "      <td>40.80902</td>\n",
              "      <td>-73.94190</td>\n",
              "      <td>1.0</td>\n",
              "    </tr>\n",
              "    <tr>\n",
              "      <th>1</th>\n",
              "      <td>11238</td>\n",
              "      <td>3</td>\n",
              "      <td>1.0</td>\n",
              "      <td>4.0</td>\n",
              "      <td>89.0</td>\n",
              "      <td>279</td>\n",
              "      <td>90.0</td>\n",
              "      <td>9.0</td>\n",
              "      <td>9.0</td>\n",
              "      <td>10.0</td>\n",
              "      <td>9.0</td>\n",
              "      <td>10.0</td>\n",
              "      <td>9.0</td>\n",
              "      <td>1.0</td>\n",
              "      <td>1</td>\n",
              "      <td>1</td>\n",
              "      <td>40.68514</td>\n",
              "      <td>-73.95976</td>\n",
              "      <td>1.0</td>\n",
              "    </tr>\n",
              "    <tr>\n",
              "      <th>2</th>\n",
              "      <td>10029</td>\n",
              "      <td>1</td>\n",
              "      <td>NaN</td>\n",
              "      <td>1.0</td>\n",
              "      <td>80.0</td>\n",
              "      <td>9</td>\n",
              "      <td>93.0</td>\n",
              "      <td>10.0</td>\n",
              "      <td>9.0</td>\n",
              "      <td>10.0</td>\n",
              "      <td>10.0</td>\n",
              "      <td>9.0</td>\n",
              "      <td>10.0</td>\n",
              "      <td>1.0</td>\n",
              "      <td>0</td>\n",
              "      <td>10</td>\n",
              "      <td>40.79851</td>\n",
              "      <td>-73.94399</td>\n",
              "      <td>1.0</td>\n",
              "    </tr>\n",
              "    <tr>\n",
              "      <th>3</th>\n",
              "      <td>10016</td>\n",
              "      <td>2</td>\n",
              "      <td>1.0</td>\n",
              "      <td>1.0</td>\n",
              "      <td>200.0</td>\n",
              "      <td>75</td>\n",
              "      <td>89.0</td>\n",
              "      <td>10.0</td>\n",
              "      <td>9.0</td>\n",
              "      <td>10.0</td>\n",
              "      <td>10.0</td>\n",
              "      <td>9.0</td>\n",
              "      <td>9.0</td>\n",
              "      <td>1.0</td>\n",
              "      <td>3</td>\n",
              "      <td>3</td>\n",
              "      <td>40.74767</td>\n",
              "      <td>-73.97500</td>\n",
              "      <td>1.0</td>\n",
              "    </tr>\n",
              "    <tr>\n",
              "      <th>4</th>\n",
              "      <td>11216</td>\n",
              "      <td>2</td>\n",
              "      <td>1.0</td>\n",
              "      <td>1.0</td>\n",
              "      <td>60.0</td>\n",
              "      <td>49</td>\n",
              "      <td>90.0</td>\n",
              "      <td>8.0</td>\n",
              "      <td>8.0</td>\n",
              "      <td>10.0</td>\n",
              "      <td>10.0</td>\n",
              "      <td>9.0</td>\n",
              "      <td>9.0</td>\n",
              "      <td>1.0</td>\n",
              "      <td>0</td>\n",
              "      <td>45</td>\n",
              "      <td>40.68688</td>\n",
              "      <td>-73.95596</td>\n",
              "      <td>NaN</td>\n",
              "    </tr>\n",
              "  </tbody>\n",
              "</table>\n",
              "</div>"
            ],
            "text/plain": [
              "  zipcode  accommodates  bedrooms  ...  latitude  longitude  bathrooms\n",
              "0   10027             2       1.0  ...  40.80902  -73.94190        1.0\n",
              "1   11238             3       1.0  ...  40.68514  -73.95976        1.0\n",
              "2   10029             1       NaN  ...  40.79851  -73.94399        1.0\n",
              "3   10016             2       1.0  ...  40.74767  -73.97500        1.0\n",
              "4   11216             2       1.0  ...  40.68688  -73.95596        NaN\n",
              "\n",
              "[5 rows x 19 columns]"
            ]
          },
          "metadata": {
            "tags": []
          },
          "execution_count": 23
        }
      ]
    },
    {
      "cell_type": "code",
      "metadata": {
        "id": "4xLc0BgdrE0q",
        "colab_type": "code",
        "outputId": "7fb68a80-eaa4-45f7-dd3f-66809e01a07e",
        "colab": {
          "base_uri": "https://localhost:8080/",
          "height": 738
        }
      },
      "source": [
        "plt.figure(figsize=(12,10))\n",
        "cor = df_test.corr()\n",
        "sns.heatmap(cor, annot=True, cmap=plt.cm.Reds)\n",
        "plt.show()"
      ],
      "execution_count": 24,
      "outputs": [
        {
          "output_type": "display_data",
          "data": {
            "image/png": "[encoded data removed]",
            "text/plain": [
              "<Figure size 864x720 with 2 Axes>"
            ]
          },
          "metadata": {
            "tags": []
          }
        }
      ]
    },
    {
      "cell_type": "code",
      "metadata": {
        "id": "XNBPs1BFNn6l",
        "colab_type": "code",
        "outputId": "f8b04d62-63d6-4ef4-f73e-5a5c6cde21ee",
        "colab": {
          "base_uri": "https://localhost:8080/",
          "height": 123
        }
      },
      "source": [
        "cor_target = abs(cor[\"price\"])\n",
        "#Selecting highly correlated features\n",
        "relevant_features = cor_target[cor_target>0.2]\n",
        "relevant_features"
      ],
      "execution_count": 25,
      "outputs": [
        {
          "output_type": "execute_result",
          "data": {
            "text/plain": [
              "accommodates    0.313954\n",
              "bedrooms        0.235610\n",
              "beds            0.230883\n",
              "price           1.000000\n",
              "bathrooms       0.203390\n",
              "Name: price, dtype: float64"
            ]
          },
          "metadata": {
            "tags": []
          },
          "execution_count": 25
        }
      ]
    },
    {
      "cell_type": "code",
      "metadata": {
        "id": "TpidTqfPaTdz",
        "colab_type": "code",
        "colab": {}
      },
      "source": [
        "df1[\"city\"]=df1[\"city\"].str.lower()"
      ],
      "execution_count": 0,
      "outputs": []
    },
    {
      "cell_type": "code",
      "metadata": {
        "id": "ZSlMWUKnah6H",
        "colab_type": "code",
        "outputId": "38f23465-4003-4d19-c306-7e2f4fa0bf3c",
        "colab": {
          "base_uri": "https://localhost:8080/",
          "height": 123
        }
      },
      "source": [
        "df1[\"city\"].head()"
      ],
      "execution_count": 27,
      "outputs": [
        {
          "output_type": "execute_result",
          "data": {
            "text/plain": [
              "0    new york\n",
              "1    brooklyn\n",
              "2    new york\n",
              "3    new york\n",
              "4    brooklyn\n",
              "Name: city, dtype: object"
            ]
          },
          "metadata": {
            "tags": []
          },
          "execution_count": 27
        }
      ]
    },
    {
      "cell_type": "code",
      "metadata": {
        "id": "DHnQ8JiuY2nU",
        "colab_type": "code",
        "outputId": "730faedb-8b42-4d83-de1e-939013929b89",
        "colab": {
          "base_uri": "https://localhost:8080/",
          "height": 158
        }
      },
      "source": [
        "df1.property_type.unique()"
      ],
      "execution_count": 28,
      "outputs": [
        {
          "output_type": "execute_result",
          "data": {
            "text/plain": [
              "array(['Apartment', 'Guest suite', 'Townhouse', 'Loft',\n",
              "       'Bed and breakfast', 'Condominium', 'House', 'Boutique hotel',\n",
              "       'Tiny house', 'Guesthouse', 'Cabin', 'Hostel', 'Other', 'Resort',\n",
              "       'Serviced apartment', 'Boat', 'Hotel', 'Aparthotel', 'Earth house',\n",
              "       'Bungalow', 'Cottage', 'Villa', 'Cave', 'Houseboat', 'Castle',\n",
              "       'Nature lodge', 'Tent', 'Camper/RV', 'Bus', 'Dome house',\n",
              "       'Farm stay', 'Casa particular (Cuba)', 'Island', 'Yurt', 'Barn',\n",
              "       'Timeshare'], dtype=object)"
            ]
          },
          "metadata": {
            "tags": []
          },
          "execution_count": 28
        }
      ]
    },
    {
      "cell_type": "markdown",
      "metadata": {
        "id": "GfHygfX8s_hE",
        "colab_type": "text"
      },
      "source": [
        "# Handling Missing values"
      ]
    },
    {
      "cell_type": "code",
      "metadata": {
        "id": "rIMjzNWmszfv",
        "colab_type": "code",
        "outputId": "750d5f17-d6b1-4b58-e741-78454e69fcb9",
        "colab": {
          "base_uri": "https://localhost:8080/",
          "height": 514
        }
      },
      "source": [
        "for i in df1.columns:\n",
        "    print (i + ', Missing values count:', len(df1[i][df1[i].isnull()]))"
      ],
      "execution_count": 29,
      "outputs": [
        {
          "output_type": "stream",
          "text": [
            "neighbourhood_cleansed, Missing values count: 0\n",
            "zipcode, Missing values count: 471\n",
            "market, Missing values count: 102\n",
            "property_type, Missing values count: 0\n",
            "room_type, Missing values count: 0\n",
            "city, Missing values count: 68\n",
            "state, Missing values count: 3\n",
            "accommodates, Missing values count: 0\n",
            "bedrooms, Missing values count: 41\n",
            "beds, Missing values count: 36\n",
            "bed_type, Missing values count: 0\n",
            "price, Missing values count: 0\n",
            "number_of_reviews, Missing values count: 0\n",
            "review_scores_rating, Missing values count: 10561\n",
            "review_scores_accuracy, Missing values count: 10598\n",
            "review_scores_cleanliness, Missing values count: 10583\n",
            "review_scores_checkin, Missing values count: 10615\n",
            "review_scores_communication, Missing values count: 10595\n",
            "review_scores_location, Missing values count: 10619\n",
            "review_scores_value, Missing values count: 10618\n",
            "host_listings_count, Missing values count: 21\n",
            "is_location_exact, Missing values count: 0\n",
            "availability_30, Missing values count: 0\n",
            "minimum_nights, Missing values count: 0\n",
            "latitude, Missing values count: 0\n",
            "longitude, Missing values count: 0\n",
            "bathrooms, Missing values count: 48\n",
            "log_price, Missing values count: 0\n"
          ],
          "name": "stdout"
        }
      ]
    },
    {
      "cell_type": "code",
      "metadata": {
        "id": "PSWpG5nCtrkl",
        "colab_type": "code",
        "outputId": "335b408e-1153-469e-baee-df7101fe6a66",
        "colab": {
          "base_uri": "https://localhost:8080/",
          "height": 603
        }
      },
      "source": [
        "df1.info()"
      ],
      "execution_count": 30,
      "outputs": [
        {
          "output_type": "stream",
          "text": [
            "<class 'pandas.core.frame.DataFrame'>\n",
            "Int64Index: 48377 entries, 0 to 48376\n",
            "Data columns (total 28 columns):\n",
            "neighbourhood_cleansed         48377 non-null object\n",
            "zipcode                        47906 non-null object\n",
            "market                         48275 non-null object\n",
            "property_type                  48377 non-null object\n",
            "room_type                      48377 non-null object\n",
            "city                           48309 non-null object\n",
            "state                          48374 non-null object\n",
            "accommodates                   48377 non-null int64\n",
            "bedrooms                       48336 non-null float64\n",
            "beds                           48341 non-null float64\n",
            "bed_type                       48377 non-null object\n",
            "price                          48377 non-null float64\n",
            "number_of_reviews              48377 non-null int64\n",
            "review_scores_rating           37816 non-null float64\n",
            "review_scores_accuracy         37779 non-null float64\n",
            "review_scores_cleanliness      37794 non-null float64\n",
            "review_scores_checkin          37762 non-null float64\n",
            "review_scores_communication    37782 non-null float64\n",
            "review_scores_location         37758 non-null float64\n",
            "review_scores_value            37759 non-null float64\n",
            "host_listings_count            48356 non-null float64\n",
            "is_location_exact              48377 non-null object\n",
            "availability_30                48377 non-null int64\n",
            "minimum_nights                 48377 non-null int64\n",
            "latitude                       48377 non-null float64\n",
            "longitude                      48377 non-null float64\n",
            "bathrooms                      48329 non-null float64\n",
            "log_price                      48377 non-null float64\n",
            "dtypes: float64(15), int64(4), object(9)\n",
            "memory usage: 10.7+ MB\n"
          ],
          "name": "stdout"
        }
      ]
    },
    {
      "cell_type": "code",
      "metadata": {
        "id": "LfljjWAJNeh3",
        "colab_type": "code",
        "colab": {}
      },
      "source": [
        "df1 = df1.replace('_', np.nan)"
      ],
      "execution_count": 0,
      "outputs": []
    },
    {
      "cell_type": "code",
      "metadata": {
        "id": "QwUNmpKfEqFj",
        "colab_type": "code",
        "outputId": "5f4f629b-06df-4cbb-c905-433d08059a2e",
        "colab": {
          "base_uri": "https://localhost:8080/",
          "height": 532
        }
      },
      "source": [
        "df1.isnull().sum()"
      ],
      "execution_count": 32,
      "outputs": [
        {
          "output_type": "execute_result",
          "data": {
            "text/plain": [
              "neighbourhood_cleansed             0\n",
              "zipcode                          471\n",
              "market                           102\n",
              "property_type                      0\n",
              "room_type                          0\n",
              "city                              68\n",
              "state                              3\n",
              "accommodates                       0\n",
              "bedrooms                          41\n",
              "beds                              36\n",
              "bed_type                           0\n",
              "price                              0\n",
              "number_of_reviews                  0\n",
              "review_scores_rating           10561\n",
              "review_scores_accuracy         10598\n",
              "review_scores_cleanliness      10583\n",
              "review_scores_checkin          10615\n",
              "review_scores_communication    10595\n",
              "review_scores_location         10619\n",
              "review_scores_value            10618\n",
              "host_listings_count               21\n",
              "is_location_exact                  0\n",
              "availability_30                    0\n",
              "minimum_nights                     0\n",
              "latitude                           0\n",
              "longitude                          0\n",
              "bathrooms                         48\n",
              "log_price                          0\n",
              "dtype: int64"
            ]
          },
          "metadata": {
            "tags": []
          },
          "execution_count": 32
        }
      ]
    },
    {
      "cell_type": "code",
      "metadata": {
        "id": "AIGVPdwn_GAo",
        "colab_type": "code",
        "outputId": "739cb355-1bc6-49e2-e2ca-10b4e458a11c",
        "colab": {
          "base_uri": "https://localhost:8080/",
          "height": 514
        }
      },
      "source": [
        "for col in df1.columns:\n",
        "  print(col, type(df1[col].loc[0]))"
      ],
      "execution_count": 33,
      "outputs": [
        {
          "output_type": "stream",
          "text": [
            "neighbourhood_cleansed <class 'str'>\n",
            "zipcode <class 'str'>\n",
            "market <class 'str'>\n",
            "property_type <class 'str'>\n",
            "room_type <class 'str'>\n",
            "city <class 'str'>\n",
            "state <class 'str'>\n",
            "accommodates <class 'numpy.int64'>\n",
            "bedrooms <class 'numpy.float64'>\n",
            "beds <class 'numpy.float64'>\n",
            "bed_type <class 'str'>\n",
            "price <class 'numpy.float64'>\n",
            "number_of_reviews <class 'numpy.int64'>\n",
            "review_scores_rating <class 'numpy.float64'>\n",
            "review_scores_accuracy <class 'numpy.float64'>\n",
            "review_scores_cleanliness <class 'numpy.float64'>\n",
            "review_scores_checkin <class 'numpy.float64'>\n",
            "review_scores_communication <class 'numpy.float64'>\n",
            "review_scores_location <class 'numpy.float64'>\n",
            "review_scores_value <class 'numpy.float64'>\n",
            "host_listings_count <class 'numpy.float64'>\n",
            "is_location_exact <class 'str'>\n",
            "availability_30 <class 'numpy.int64'>\n",
            "minimum_nights <class 'numpy.int64'>\n",
            "latitude <class 'numpy.float64'>\n",
            "longitude <class 'numpy.float64'>\n",
            "bathrooms <class 'numpy.float64'>\n",
            "log_price <class 'numpy.float64'>\n"
          ],
          "name": "stdout"
        }
      ]
    },
    {
      "cell_type": "code",
      "metadata": {
        "id": "uE70QXpKFvxh",
        "colab_type": "code",
        "outputId": "8b50acba-befa-45ab-ce6a-9a9b78ba4053",
        "colab": {
          "base_uri": "https://localhost:8080/",
          "height": 34
        }
      },
      "source": [
        "df1['host_listings_count'].loc[0]"
      ],
      "execution_count": 34,
      "outputs": [
        {
          "output_type": "execute_result",
          "data": {
            "text/plain": [
              "1.0"
            ]
          },
          "metadata": {
            "tags": []
          },
          "execution_count": 34
        }
      ]
    },
    {
      "cell_type": "code",
      "metadata": {
        "id": "58VUlA8aAQ54",
        "colab_type": "code",
        "outputId": "90e7cd64-a8eb-49af-eb10-832b8a711694",
        "colab": {
          "base_uri": "https://localhost:8080/",
          "height": 34
        }
      },
      "source": [
        "x=df1['price'].dtype\n",
        "x"
      ],
      "execution_count": 35,
      "outputs": [
        {
          "output_type": "execute_result",
          "data": {
            "text/plain": [
              "dtype('float64')"
            ]
          },
          "metadata": {
            "tags": []
          },
          "execution_count": 35
        }
      ]
    },
    {
      "cell_type": "code",
      "metadata": {
        "id": "dyxsy68hBp-u",
        "colab_type": "code",
        "colab": {}
      },
      "source": [
        "missing_val=[]\n",
        "\n",
        "for col in df1.columns:\n",
        "  msng_val_cnt=len(df1[col][df1[col].isnull()])\n",
        "  tot_len=len(df1[col])\n",
        "  dict1={'Col_Name':col,'DataType': df1[col].dtype,'percentofNull':msng_val_cnt*100.0/tot_len}\n",
        "  missing_val.append(dict1)\n",
        "\n",
        "missing_col_df = pd.DataFrame(missing_val, columns=['Col_Name','DataType','percentofNull']).sort_values( by='percentofNull',ascending=False)\n",
        "\n",
        "\n"
      ],
      "execution_count": 0,
      "outputs": []
    },
    {
      "cell_type": "code",
      "metadata": {
        "id": "J6A9WMY_H0wN",
        "colab_type": "code",
        "outputId": "36a6a127-1726-49c2-ffcb-0b99ddf472df",
        "colab": {
          "base_uri": "https://localhost:8080/",
          "height": 887
        }
      },
      "source": [
        "missing_col_df"
      ],
      "execution_count": 37,
      "outputs": [
        {
          "output_type": "execute_result",
          "data": {
            "text/html": [
              "<div>\n",
              "<style scoped>\n",
              "    .dataframe tbody tr th:only-of-type {\n",
              "        vertical-align: middle;\n",
              "    }\n",
              "\n",
              "    .dataframe tbody tr th {\n",
              "        vertical-align: top;\n",
              "    }\n",
              "\n",
              "    .dataframe thead th {\n",
              "        text-align: right;\n",
              "    }\n",
              "</style>\n",
              "<table border=\"1\" class=\"dataframe\">\n",
              "  <thead>\n",
              "    <tr style=\"text-align: right;\">\n",
              "      <th></th>\n",
              "      <th>Col_Name</th>\n",
              "      <th>DataType</th>\n",
              "      <th>percentofNull</th>\n",
              "    </tr>\n",
              "  </thead>\n",
              "  <tbody>\n",
              "    <tr>\n",
              "      <th>18</th>\n",
              "      <td>review_scores_location</td>\n",
              "      <td>float64</td>\n",
              "      <td>21.950514</td>\n",
              "    </tr>\n",
              "    <tr>\n",
              "      <th>19</th>\n",
              "      <td>review_scores_value</td>\n",
              "      <td>float64</td>\n",
              "      <td>21.948447</td>\n",
              "    </tr>\n",
              "    <tr>\n",
              "      <th>16</th>\n",
              "      <td>review_scores_checkin</td>\n",
              "      <td>float64</td>\n",
              "      <td>21.942245</td>\n",
              "    </tr>\n",
              "    <tr>\n",
              "      <th>14</th>\n",
              "      <td>review_scores_accuracy</td>\n",
              "      <td>float64</td>\n",
              "      <td>21.907105</td>\n",
              "    </tr>\n",
              "    <tr>\n",
              "      <th>17</th>\n",
              "      <td>review_scores_communication</td>\n",
              "      <td>float64</td>\n",
              "      <td>21.900903</td>\n",
              "    </tr>\n",
              "    <tr>\n",
              "      <th>15</th>\n",
              "      <td>review_scores_cleanliness</td>\n",
              "      <td>float64</td>\n",
              "      <td>21.876098</td>\n",
              "    </tr>\n",
              "    <tr>\n",
              "      <th>13</th>\n",
              "      <td>review_scores_rating</td>\n",
              "      <td>float64</td>\n",
              "      <td>21.830622</td>\n",
              "    </tr>\n",
              "    <tr>\n",
              "      <th>1</th>\n",
              "      <td>zipcode</td>\n",
              "      <td>object</td>\n",
              "      <td>0.973603</td>\n",
              "    </tr>\n",
              "    <tr>\n",
              "      <th>2</th>\n",
              "      <td>market</td>\n",
              "      <td>object</td>\n",
              "      <td>0.210844</td>\n",
              "    </tr>\n",
              "    <tr>\n",
              "      <th>5</th>\n",
              "      <td>city</td>\n",
              "      <td>object</td>\n",
              "      <td>0.140563</td>\n",
              "    </tr>\n",
              "    <tr>\n",
              "      <th>26</th>\n",
              "      <td>bathrooms</td>\n",
              "      <td>float64</td>\n",
              "      <td>0.099221</td>\n",
              "    </tr>\n",
              "    <tr>\n",
              "      <th>8</th>\n",
              "      <td>bedrooms</td>\n",
              "      <td>float64</td>\n",
              "      <td>0.084751</td>\n",
              "    </tr>\n",
              "    <tr>\n",
              "      <th>9</th>\n",
              "      <td>beds</td>\n",
              "      <td>float64</td>\n",
              "      <td>0.074416</td>\n",
              "    </tr>\n",
              "    <tr>\n",
              "      <th>20</th>\n",
              "      <td>host_listings_count</td>\n",
              "      <td>float64</td>\n",
              "      <td>0.043409</td>\n",
              "    </tr>\n",
              "    <tr>\n",
              "      <th>6</th>\n",
              "      <td>state</td>\n",
              "      <td>object</td>\n",
              "      <td>0.006201</td>\n",
              "    </tr>\n",
              "    <tr>\n",
              "      <th>25</th>\n",
              "      <td>longitude</td>\n",
              "      <td>float64</td>\n",
              "      <td>0.000000</td>\n",
              "    </tr>\n",
              "    <tr>\n",
              "      <th>24</th>\n",
              "      <td>latitude</td>\n",
              "      <td>float64</td>\n",
              "      <td>0.000000</td>\n",
              "    </tr>\n",
              "    <tr>\n",
              "      <th>22</th>\n",
              "      <td>availability_30</td>\n",
              "      <td>int64</td>\n",
              "      <td>0.000000</td>\n",
              "    </tr>\n",
              "    <tr>\n",
              "      <th>21</th>\n",
              "      <td>is_location_exact</td>\n",
              "      <td>object</td>\n",
              "      <td>0.000000</td>\n",
              "    </tr>\n",
              "    <tr>\n",
              "      <th>23</th>\n",
              "      <td>minimum_nights</td>\n",
              "      <td>int64</td>\n",
              "      <td>0.000000</td>\n",
              "    </tr>\n",
              "    <tr>\n",
              "      <th>0</th>\n",
              "      <td>neighbourhood_cleansed</td>\n",
              "      <td>object</td>\n",
              "      <td>0.000000</td>\n",
              "    </tr>\n",
              "    <tr>\n",
              "      <th>12</th>\n",
              "      <td>number_of_reviews</td>\n",
              "      <td>int64</td>\n",
              "      <td>0.000000</td>\n",
              "    </tr>\n",
              "    <tr>\n",
              "      <th>11</th>\n",
              "      <td>price</td>\n",
              "      <td>float64</td>\n",
              "      <td>0.000000</td>\n",
              "    </tr>\n",
              "    <tr>\n",
              "      <th>10</th>\n",
              "      <td>bed_type</td>\n",
              "      <td>object</td>\n",
              "      <td>0.000000</td>\n",
              "    </tr>\n",
              "    <tr>\n",
              "      <th>7</th>\n",
              "      <td>accommodates</td>\n",
              "      <td>int64</td>\n",
              "      <td>0.000000</td>\n",
              "    </tr>\n",
              "    <tr>\n",
              "      <th>4</th>\n",
              "      <td>room_type</td>\n",
              "      <td>object</td>\n",
              "      <td>0.000000</td>\n",
              "    </tr>\n",
              "    <tr>\n",
              "      <th>3</th>\n",
              "      <td>property_type</td>\n",
              "      <td>object</td>\n",
              "      <td>0.000000</td>\n",
              "    </tr>\n",
              "    <tr>\n",
              "      <th>27</th>\n",
              "      <td>log_price</td>\n",
              "      <td>float64</td>\n",
              "      <td>0.000000</td>\n",
              "    </tr>\n",
              "  </tbody>\n",
              "</table>\n",
              "</div>"
            ],
            "text/plain": [
              "                       Col_Name DataType  percentofNull\n",
              "18       review_scores_location  float64      21.950514\n",
              "19          review_scores_value  float64      21.948447\n",
              "16        review_scores_checkin  float64      21.942245\n",
              "14       review_scores_accuracy  float64      21.907105\n",
              "17  review_scores_communication  float64      21.900903\n",
              "15    review_scores_cleanliness  float64      21.876098\n",
              "13         review_scores_rating  float64      21.830622\n",
              "1                       zipcode   object       0.973603\n",
              "2                        market   object       0.210844\n",
              "5                          city   object       0.140563\n",
              "26                    bathrooms  float64       0.099221\n",
              "8                      bedrooms  float64       0.084751\n",
              "9                          beds  float64       0.074416\n",
              "20          host_listings_count  float64       0.043409\n",
              "6                         state   object       0.006201\n",
              "25                    longitude  float64       0.000000\n",
              "24                     latitude  float64       0.000000\n",
              "22              availability_30    int64       0.000000\n",
              "21            is_location_exact   object       0.000000\n",
              "23               minimum_nights    int64       0.000000\n",
              "0        neighbourhood_cleansed   object       0.000000\n",
              "12            number_of_reviews    int64       0.000000\n",
              "11                        price  float64       0.000000\n",
              "10                     bed_type   object       0.000000\n",
              "7                  accommodates    int64       0.000000\n",
              "4                     room_type   object       0.000000\n",
              "3                 property_type   object       0.000000\n",
              "27                    log_price  float64       0.000000"
            ]
          },
          "metadata": {
            "tags": []
          },
          "execution_count": 37
        }
      ]
    },
    {
      "cell_type": "code",
      "metadata": {
        "id": "rhoVVZGRMDdK",
        "colab_type": "code",
        "outputId": "6dbbc96d-4e94-4e0f-895d-48d92ee7e5d4",
        "colab": {
          "base_uri": "https://localhost:8080/",
          "height": 887
        }
      },
      "source": [
        "wanted_col_df=missing_col_df[missing_col_df.percentofNull<50.0]\n",
        "wanted_col_df"
      ],
      "execution_count": 38,
      "outputs": [
        {
          "output_type": "execute_result",
          "data": {
            "text/html": [
              "<div>\n",
              "<style scoped>\n",
              "    .dataframe tbody tr th:only-of-type {\n",
              "        vertical-align: middle;\n",
              "    }\n",
              "\n",
              "    .dataframe tbody tr th {\n",
              "        vertical-align: top;\n",
              "    }\n",
              "\n",
              "    .dataframe thead th {\n",
              "        text-align: right;\n",
              "    }\n",
              "</style>\n",
              "<table border=\"1\" class=\"dataframe\">\n",
              "  <thead>\n",
              "    <tr style=\"text-align: right;\">\n",
              "      <th></th>\n",
              "      <th>Col_Name</th>\n",
              "      <th>DataType</th>\n",
              "      <th>percentofNull</th>\n",
              "    </tr>\n",
              "  </thead>\n",
              "  <tbody>\n",
              "    <tr>\n",
              "      <th>18</th>\n",
              "      <td>review_scores_location</td>\n",
              "      <td>float64</td>\n",
              "      <td>21.950514</td>\n",
              "    </tr>\n",
              "    <tr>\n",
              "      <th>19</th>\n",
              "      <td>review_scores_value</td>\n",
              "      <td>float64</td>\n",
              "      <td>21.948447</td>\n",
              "    </tr>\n",
              "    <tr>\n",
              "      <th>16</th>\n",
              "      <td>review_scores_checkin</td>\n",
              "      <td>float64</td>\n",
              "      <td>21.942245</td>\n",
              "    </tr>\n",
              "    <tr>\n",
              "      <th>14</th>\n",
              "      <td>review_scores_accuracy</td>\n",
              "      <td>float64</td>\n",
              "      <td>21.907105</td>\n",
              "    </tr>\n",
              "    <tr>\n",
              "      <th>17</th>\n",
              "      <td>review_scores_communication</td>\n",
              "      <td>float64</td>\n",
              "      <td>21.900903</td>\n",
              "    </tr>\n",
              "    <tr>\n",
              "      <th>15</th>\n",
              "      <td>review_scores_cleanliness</td>\n",
              "      <td>float64</td>\n",
              "      <td>21.876098</td>\n",
              "    </tr>\n",
              "    <tr>\n",
              "      <th>13</th>\n",
              "      <td>review_scores_rating</td>\n",
              "      <td>float64</td>\n",
              "      <td>21.830622</td>\n",
              "    </tr>\n",
              "    <tr>\n",
              "      <th>1</th>\n",
              "      <td>zipcode</td>\n",
              "      <td>object</td>\n",
              "      <td>0.973603</td>\n",
              "    </tr>\n",
              "    <tr>\n",
              "      <th>2</th>\n",
              "      <td>market</td>\n",
              "      <td>object</td>\n",
              "      <td>0.210844</td>\n",
              "    </tr>\n",
              "    <tr>\n",
              "      <th>5</th>\n",
              "      <td>city</td>\n",
              "      <td>object</td>\n",
              "      <td>0.140563</td>\n",
              "    </tr>\n",
              "    <tr>\n",
              "      <th>26</th>\n",
              "      <td>bathrooms</td>\n",
              "      <td>float64</td>\n",
              "      <td>0.099221</td>\n",
              "    </tr>\n",
              "    <tr>\n",
              "      <th>8</th>\n",
              "      <td>bedrooms</td>\n",
              "      <td>float64</td>\n",
              "      <td>0.084751</td>\n",
              "    </tr>\n",
              "    <tr>\n",
              "      <th>9</th>\n",
              "      <td>beds</td>\n",
              "      <td>float64</td>\n",
              "      <td>0.074416</td>\n",
              "    </tr>\n",
              "    <tr>\n",
              "      <th>20</th>\n",
              "      <td>host_listings_count</td>\n",
              "      <td>float64</td>\n",
              "      <td>0.043409</td>\n",
              "    </tr>\n",
              "    <tr>\n",
              "      <th>6</th>\n",
              "      <td>state</td>\n",
              "      <td>object</td>\n",
              "      <td>0.006201</td>\n",
              "    </tr>\n",
              "    <tr>\n",
              "      <th>25</th>\n",
              "      <td>longitude</td>\n",
              "      <td>float64</td>\n",
              "      <td>0.000000</td>\n",
              "    </tr>\n",
              "    <tr>\n",
              "      <th>24</th>\n",
              "      <td>latitude</td>\n",
              "      <td>float64</td>\n",
              "      <td>0.000000</td>\n",
              "    </tr>\n",
              "    <tr>\n",
              "      <th>22</th>\n",
              "      <td>availability_30</td>\n",
              "      <td>int64</td>\n",
              "      <td>0.000000</td>\n",
              "    </tr>\n",
              "    <tr>\n",
              "      <th>21</th>\n",
              "      <td>is_location_exact</td>\n",
              "      <td>object</td>\n",
              "      <td>0.000000</td>\n",
              "    </tr>\n",
              "    <tr>\n",
              "      <th>23</th>\n",
              "      <td>minimum_nights</td>\n",
              "      <td>int64</td>\n",
              "      <td>0.000000</td>\n",
              "    </tr>\n",
              "    <tr>\n",
              "      <th>0</th>\n",
              "      <td>neighbourhood_cleansed</td>\n",
              "      <td>object</td>\n",
              "      <td>0.000000</td>\n",
              "    </tr>\n",
              "    <tr>\n",
              "      <th>12</th>\n",
              "      <td>number_of_reviews</td>\n",
              "      <td>int64</td>\n",
              "      <td>0.000000</td>\n",
              "    </tr>\n",
              "    <tr>\n",
              "      <th>11</th>\n",
              "      <td>price</td>\n",
              "      <td>float64</td>\n",
              "      <td>0.000000</td>\n",
              "    </tr>\n",
              "    <tr>\n",
              "      <th>10</th>\n",
              "      <td>bed_type</td>\n",
              "      <td>object</td>\n",
              "      <td>0.000000</td>\n",
              "    </tr>\n",
              "    <tr>\n",
              "      <th>7</th>\n",
              "      <td>accommodates</td>\n",
              "      <td>int64</td>\n",
              "      <td>0.000000</td>\n",
              "    </tr>\n",
              "    <tr>\n",
              "      <th>4</th>\n",
              "      <td>room_type</td>\n",
              "      <td>object</td>\n",
              "      <td>0.000000</td>\n",
              "    </tr>\n",
              "    <tr>\n",
              "      <th>3</th>\n",
              "      <td>property_type</td>\n",
              "      <td>object</td>\n",
              "      <td>0.000000</td>\n",
              "    </tr>\n",
              "    <tr>\n",
              "      <th>27</th>\n",
              "      <td>log_price</td>\n",
              "      <td>float64</td>\n",
              "      <td>0.000000</td>\n",
              "    </tr>\n",
              "  </tbody>\n",
              "</table>\n",
              "</div>"
            ],
            "text/plain": [
              "                       Col_Name DataType  percentofNull\n",
              "18       review_scores_location  float64      21.950514\n",
              "19          review_scores_value  float64      21.948447\n",
              "16        review_scores_checkin  float64      21.942245\n",
              "14       review_scores_accuracy  float64      21.907105\n",
              "17  review_scores_communication  float64      21.900903\n",
              "15    review_scores_cleanliness  float64      21.876098\n",
              "13         review_scores_rating  float64      21.830622\n",
              "1                       zipcode   object       0.973603\n",
              "2                        market   object       0.210844\n",
              "5                          city   object       0.140563\n",
              "26                    bathrooms  float64       0.099221\n",
              "8                      bedrooms  float64       0.084751\n",
              "9                          beds  float64       0.074416\n",
              "20          host_listings_count  float64       0.043409\n",
              "6                         state   object       0.006201\n",
              "25                    longitude  float64       0.000000\n",
              "24                     latitude  float64       0.000000\n",
              "22              availability_30    int64       0.000000\n",
              "21            is_location_exact   object       0.000000\n",
              "23               minimum_nights    int64       0.000000\n",
              "0        neighbourhood_cleansed   object       0.000000\n",
              "12            number_of_reviews    int64       0.000000\n",
              "11                        price  float64       0.000000\n",
              "10                     bed_type   object       0.000000\n",
              "7                  accommodates    int64       0.000000\n",
              "4                     room_type   object       0.000000\n",
              "3                 property_type   object       0.000000\n",
              "27                    log_price  float64       0.000000"
            ]
          },
          "metadata": {
            "tags": []
          },
          "execution_count": 38
        }
      ]
    },
    {
      "cell_type": "code",
      "metadata": {
        "id": "YaHjI_1jQy3j",
        "colab_type": "code",
        "outputId": "cdc429bc-416b-4c25-d927-98a8bc072255",
        "colab": {
          "base_uri": "https://localhost:8080/",
          "height": 301
        }
      },
      "source": [
        "for column in df1.columns.values:\n",
        "    if (np.any(wanted_col_df.Col_Name.values == column) == False):\n",
        "        df1.drop(column, axis=1, inplace=True)\n",
        "        \n",
        "df1.head(5)"
      ],
      "execution_count": 39,
      "outputs": [
        {
          "output_type": "execute_result",
          "data": {
            "text/html": [
              "<div>\n",
              "<style scoped>\n",
              "    .dataframe tbody tr th:only-of-type {\n",
              "        vertical-align: middle;\n",
              "    }\n",
              "\n",
              "    .dataframe tbody tr th {\n",
              "        vertical-align: top;\n",
              "    }\n",
              "\n",
              "    .dataframe thead th {\n",
              "        text-align: right;\n",
              "    }\n",
              "</style>\n",
              "<table border=\"1\" class=\"dataframe\">\n",
              "  <thead>\n",
              "    <tr style=\"text-align: right;\">\n",
              "      <th></th>\n",
              "      <th>neighbourhood_cleansed</th>\n",
              "      <th>zipcode</th>\n",
              "      <th>market</th>\n",
              "      <th>property_type</th>\n",
              "      <th>room_type</th>\n",
              "      <th>city</th>\n",
              "      <th>state</th>\n",
              "      <th>accommodates</th>\n",
              "      <th>bedrooms</th>\n",
              "      <th>beds</th>\n",
              "      <th>bed_type</th>\n",
              "      <th>price</th>\n",
              "      <th>number_of_reviews</th>\n",
              "      <th>review_scores_rating</th>\n",
              "      <th>review_scores_accuracy</th>\n",
              "      <th>review_scores_cleanliness</th>\n",
              "      <th>review_scores_checkin</th>\n",
              "      <th>review_scores_communication</th>\n",
              "      <th>review_scores_location</th>\n",
              "      <th>review_scores_value</th>\n",
              "      <th>host_listings_count</th>\n",
              "      <th>is_location_exact</th>\n",
              "      <th>availability_30</th>\n",
              "      <th>minimum_nights</th>\n",
              "      <th>latitude</th>\n",
              "      <th>longitude</th>\n",
              "      <th>bathrooms</th>\n",
              "      <th>log_price</th>\n",
              "    </tr>\n",
              "  </thead>\n",
              "  <tbody>\n",
              "    <tr>\n",
              "      <th>0</th>\n",
              "      <td>Harlem</td>\n",
              "      <td>10027</td>\n",
              "      <td>New York</td>\n",
              "      <td>Apartment</td>\n",
              "      <td>Private room</td>\n",
              "      <td>new york</td>\n",
              "      <td>NY</td>\n",
              "      <td>2</td>\n",
              "      <td>1.0</td>\n",
              "      <td>1.0</td>\n",
              "      <td>Pull-out Sofa</td>\n",
              "      <td>150.0</td>\n",
              "      <td>0</td>\n",
              "      <td>NaN</td>\n",
              "      <td>NaN</td>\n",
              "      <td>NaN</td>\n",
              "      <td>NaN</td>\n",
              "      <td>NaN</td>\n",
              "      <td>NaN</td>\n",
              "      <td>NaN</td>\n",
              "      <td>1.0</td>\n",
              "      <td>t</td>\n",
              "      <td>30</td>\n",
              "      <td>3</td>\n",
              "      <td>40.80902</td>\n",
              "      <td>-73.94190</td>\n",
              "      <td>1.0</td>\n",
              "      <td>5.010635</td>\n",
              "    </tr>\n",
              "    <tr>\n",
              "      <th>1</th>\n",
              "      <td>Clinton Hill</td>\n",
              "      <td>11238</td>\n",
              "      <td>New York</td>\n",
              "      <td>Guest suite</td>\n",
              "      <td>Entire home/apt</td>\n",
              "      <td>brooklyn</td>\n",
              "      <td>NY</td>\n",
              "      <td>3</td>\n",
              "      <td>1.0</td>\n",
              "      <td>4.0</td>\n",
              "      <td>Real Bed</td>\n",
              "      <td>89.0</td>\n",
              "      <td>279</td>\n",
              "      <td>90.0</td>\n",
              "      <td>9.0</td>\n",
              "      <td>9.0</td>\n",
              "      <td>10.0</td>\n",
              "      <td>9.0</td>\n",
              "      <td>10.0</td>\n",
              "      <td>9.0</td>\n",
              "      <td>1.0</td>\n",
              "      <td>t</td>\n",
              "      <td>1</td>\n",
              "      <td>1</td>\n",
              "      <td>40.68514</td>\n",
              "      <td>-73.95976</td>\n",
              "      <td>1.0</td>\n",
              "      <td>4.488636</td>\n",
              "    </tr>\n",
              "    <tr>\n",
              "      <th>2</th>\n",
              "      <td>East Harlem</td>\n",
              "      <td>10029</td>\n",
              "      <td>New York</td>\n",
              "      <td>Apartment</td>\n",
              "      <td>Entire home/apt</td>\n",
              "      <td>new york</td>\n",
              "      <td>NY</td>\n",
              "      <td>1</td>\n",
              "      <td>NaN</td>\n",
              "      <td>1.0</td>\n",
              "      <td>Real Bed</td>\n",
              "      <td>80.0</td>\n",
              "      <td>9</td>\n",
              "      <td>93.0</td>\n",
              "      <td>10.0</td>\n",
              "      <td>9.0</td>\n",
              "      <td>10.0</td>\n",
              "      <td>10.0</td>\n",
              "      <td>9.0</td>\n",
              "      <td>10.0</td>\n",
              "      <td>1.0</td>\n",
              "      <td>t</td>\n",
              "      <td>0</td>\n",
              "      <td>10</td>\n",
              "      <td>40.79851</td>\n",
              "      <td>-73.94399</td>\n",
              "      <td>1.0</td>\n",
              "      <td>4.382027</td>\n",
              "    </tr>\n",
              "    <tr>\n",
              "      <th>3</th>\n",
              "      <td>Murray Hill</td>\n",
              "      <td>10016</td>\n",
              "      <td>New York</td>\n",
              "      <td>Apartment</td>\n",
              "      <td>Entire home/apt</td>\n",
              "      <td>new york</td>\n",
              "      <td>NY</td>\n",
              "      <td>2</td>\n",
              "      <td>1.0</td>\n",
              "      <td>1.0</td>\n",
              "      <td>Real Bed</td>\n",
              "      <td>200.0</td>\n",
              "      <td>75</td>\n",
              "      <td>89.0</td>\n",
              "      <td>10.0</td>\n",
              "      <td>9.0</td>\n",
              "      <td>10.0</td>\n",
              "      <td>10.0</td>\n",
              "      <td>9.0</td>\n",
              "      <td>9.0</td>\n",
              "      <td>1.0</td>\n",
              "      <td>f</td>\n",
              "      <td>3</td>\n",
              "      <td>3</td>\n",
              "      <td>40.74767</td>\n",
              "      <td>-73.97500</td>\n",
              "      <td>1.0</td>\n",
              "      <td>5.298317</td>\n",
              "    </tr>\n",
              "    <tr>\n",
              "      <th>4</th>\n",
              "      <td>Bedford-Stuyvesant</td>\n",
              "      <td>11216</td>\n",
              "      <td>New York</td>\n",
              "      <td>Apartment</td>\n",
              "      <td>Private room</td>\n",
              "      <td>brooklyn</td>\n",
              "      <td>NY</td>\n",
              "      <td>2</td>\n",
              "      <td>1.0</td>\n",
              "      <td>1.0</td>\n",
              "      <td>Futon</td>\n",
              "      <td>60.0</td>\n",
              "      <td>49</td>\n",
              "      <td>90.0</td>\n",
              "      <td>8.0</td>\n",
              "      <td>8.0</td>\n",
              "      <td>10.0</td>\n",
              "      <td>10.0</td>\n",
              "      <td>9.0</td>\n",
              "      <td>9.0</td>\n",
              "      <td>1.0</td>\n",
              "      <td>f</td>\n",
              "      <td>0</td>\n",
              "      <td>45</td>\n",
              "      <td>40.68688</td>\n",
              "      <td>-73.95596</td>\n",
              "      <td>NaN</td>\n",
              "      <td>4.094345</td>\n",
              "    </tr>\n",
              "  </tbody>\n",
              "</table>\n",
              "</div>"
            ],
            "text/plain": [
              "  neighbourhood_cleansed zipcode    market  ... longitude bathrooms log_price\n",
              "0                 Harlem   10027  New York  ... -73.94190       1.0  5.010635\n",
              "1           Clinton Hill   11238  New York  ... -73.95976       1.0  4.488636\n",
              "2            East Harlem   10029  New York  ... -73.94399       1.0  4.382027\n",
              "3            Murray Hill   10016  New York  ... -73.97500       1.0  5.298317\n",
              "4     Bedford-Stuyvesant   11216  New York  ... -73.95596       NaN  4.094345\n",
              "\n",
              "[5 rows x 28 columns]"
            ]
          },
          "metadata": {
            "tags": []
          },
          "execution_count": 39
        }
      ]
    },
    {
      "cell_type": "code",
      "metadata": {
        "id": "qYUha4IvREU8",
        "colab_type": "code",
        "outputId": "f4cb5656-21f6-43dc-a588-99dd6840edcd",
        "colab": {
          "base_uri": "https://localhost:8080/",
          "height": 176
        }
      },
      "source": [
        "df1.columns"
      ],
      "execution_count": 40,
      "outputs": [
        {
          "output_type": "execute_result",
          "data": {
            "text/plain": [
              "Index(['neighbourhood_cleansed', 'zipcode', 'market', 'property_type',\n",
              "       'room_type', 'city', 'state', 'accommodates', 'bedrooms', 'beds',\n",
              "       'bed_type', 'price', 'number_of_reviews', 'review_scores_rating',\n",
              "       'review_scores_accuracy', 'review_scores_cleanliness',\n",
              "       'review_scores_checkin', 'review_scores_communication',\n",
              "       'review_scores_location', 'review_scores_value', 'host_listings_count',\n",
              "       'is_location_exact', 'availability_30', 'minimum_nights', 'latitude',\n",
              "       'longitude', 'bathrooms', 'log_price'],\n",
              "      dtype='object')"
            ]
          },
          "metadata": {
            "tags": []
          },
          "execution_count": 40
        }
      ]
    },
    {
      "cell_type": "markdown",
      "metadata": {
        "id": "nTV2X0VEPeZB",
        "colab_type": "text"
      },
      "source": [
        "#Imputing Missing Values"
      ]
    },
    {
      "cell_type": "code",
      "metadata": {
        "id": "LCXNgkBLPonI",
        "colab_type": "code",
        "outputId": "b6c22edd-105a-4c6f-def6-27601ece31e1",
        "colab": {
          "base_uri": "https://localhost:8080/",
          "height": 87
        }
      },
      "source": [
        "wanted_col_df.dtypes == 'float64'"
      ],
      "execution_count": 41,
      "outputs": [
        {
          "output_type": "execute_result",
          "data": {
            "text/plain": [
              "Col_Name         False\n",
              "DataType         False\n",
              "percentofNull     True\n",
              "dtype: bool"
            ]
          },
          "metadata": {
            "tags": []
          },
          "execution_count": 41
        }
      ]
    },
    {
      "cell_type": "code",
      "metadata": {
        "id": "w9Mq2eozQJLr",
        "colab_type": "code",
        "outputId": "ee967068-6de1-4035-c539-ad7e7c659fbf",
        "colab": {
          "base_uri": "https://localhost:8080/",
          "height": 497
        }
      },
      "source": [
        "number_colsfloat=missing_col_df[missing_col_df.DataType == 'float64' ]\n",
        "number_colsint=missing_col_df[missing_col_df.DataType == 'int64' ]\n",
        "number_colsfloat"
      ],
      "execution_count": 42,
      "outputs": [
        {
          "output_type": "execute_result",
          "data": {
            "text/html": [
              "<div>\n",
              "<style scoped>\n",
              "    .dataframe tbody tr th:only-of-type {\n",
              "        vertical-align: middle;\n",
              "    }\n",
              "\n",
              "    .dataframe tbody tr th {\n",
              "        vertical-align: top;\n",
              "    }\n",
              "\n",
              "    .dataframe thead th {\n",
              "        text-align: right;\n",
              "    }\n",
              "</style>\n",
              "<table border=\"1\" class=\"dataframe\">\n",
              "  <thead>\n",
              "    <tr style=\"text-align: right;\">\n",
              "      <th></th>\n",
              "      <th>Col_Name</th>\n",
              "      <th>DataType</th>\n",
              "      <th>percentofNull</th>\n",
              "    </tr>\n",
              "  </thead>\n",
              "  <tbody>\n",
              "    <tr>\n",
              "      <th>18</th>\n",
              "      <td>review_scores_location</td>\n",
              "      <td>float64</td>\n",
              "      <td>21.950514</td>\n",
              "    </tr>\n",
              "    <tr>\n",
              "      <th>19</th>\n",
              "      <td>review_scores_value</td>\n",
              "      <td>float64</td>\n",
              "      <td>21.948447</td>\n",
              "    </tr>\n",
              "    <tr>\n",
              "      <th>16</th>\n",
              "      <td>review_scores_checkin</td>\n",
              "      <td>float64</td>\n",
              "      <td>21.942245</td>\n",
              "    </tr>\n",
              "    <tr>\n",
              "      <th>14</th>\n",
              "      <td>review_scores_accuracy</td>\n",
              "      <td>float64</td>\n",
              "      <td>21.907105</td>\n",
              "    </tr>\n",
              "    <tr>\n",
              "      <th>17</th>\n",
              "      <td>review_scores_communication</td>\n",
              "      <td>float64</td>\n",
              "      <td>21.900903</td>\n",
              "    </tr>\n",
              "    <tr>\n",
              "      <th>15</th>\n",
              "      <td>review_scores_cleanliness</td>\n",
              "      <td>float64</td>\n",
              "      <td>21.876098</td>\n",
              "    </tr>\n",
              "    <tr>\n",
              "      <th>13</th>\n",
              "      <td>review_scores_rating</td>\n",
              "      <td>float64</td>\n",
              "      <td>21.830622</td>\n",
              "    </tr>\n",
              "    <tr>\n",
              "      <th>26</th>\n",
              "      <td>bathrooms</td>\n",
              "      <td>float64</td>\n",
              "      <td>0.099221</td>\n",
              "    </tr>\n",
              "    <tr>\n",
              "      <th>8</th>\n",
              "      <td>bedrooms</td>\n",
              "      <td>float64</td>\n",
              "      <td>0.084751</td>\n",
              "    </tr>\n",
              "    <tr>\n",
              "      <th>9</th>\n",
              "      <td>beds</td>\n",
              "      <td>float64</td>\n",
              "      <td>0.074416</td>\n",
              "    </tr>\n",
              "    <tr>\n",
              "      <th>20</th>\n",
              "      <td>host_listings_count</td>\n",
              "      <td>float64</td>\n",
              "      <td>0.043409</td>\n",
              "    </tr>\n",
              "    <tr>\n",
              "      <th>25</th>\n",
              "      <td>longitude</td>\n",
              "      <td>float64</td>\n",
              "      <td>0.000000</td>\n",
              "    </tr>\n",
              "    <tr>\n",
              "      <th>24</th>\n",
              "      <td>latitude</td>\n",
              "      <td>float64</td>\n",
              "      <td>0.000000</td>\n",
              "    </tr>\n",
              "    <tr>\n",
              "      <th>11</th>\n",
              "      <td>price</td>\n",
              "      <td>float64</td>\n",
              "      <td>0.000000</td>\n",
              "    </tr>\n",
              "    <tr>\n",
              "      <th>27</th>\n",
              "      <td>log_price</td>\n",
              "      <td>float64</td>\n",
              "      <td>0.000000</td>\n",
              "    </tr>\n",
              "  </tbody>\n",
              "</table>\n",
              "</div>"
            ],
            "text/plain": [
              "                       Col_Name DataType  percentofNull\n",
              "18       review_scores_location  float64      21.950514\n",
              "19          review_scores_value  float64      21.948447\n",
              "16        review_scores_checkin  float64      21.942245\n",
              "14       review_scores_accuracy  float64      21.907105\n",
              "17  review_scores_communication  float64      21.900903\n",
              "15    review_scores_cleanliness  float64      21.876098\n",
              "13         review_scores_rating  float64      21.830622\n",
              "26                    bathrooms  float64       0.099221\n",
              "8                      bedrooms  float64       0.084751\n",
              "9                          beds  float64       0.074416\n",
              "20          host_listings_count  float64       0.043409\n",
              "25                    longitude  float64       0.000000\n",
              "24                     latitude  float64       0.000000\n",
              "11                        price  float64       0.000000\n",
              "27                    log_price  float64       0.000000"
            ]
          },
          "metadata": {
            "tags": []
          },
          "execution_count": 42
        }
      ]
    },
    {
      "cell_type": "code",
      "metadata": {
        "id": "yNKlOS8XIeID",
        "colab_type": "code",
        "outputId": "a02d55c8-8328-4345-e949-1415da72a589",
        "colab": {
          "base_uri": "https://localhost:8080/",
          "height": 34
        }
      },
      "source": [
        "number_colsfloat.columns"
      ],
      "execution_count": 43,
      "outputs": [
        {
          "output_type": "execute_result",
          "data": {
            "text/plain": [
              "Index(['Col_Name', 'DataType', 'percentofNull'], dtype='object')"
            ]
          },
          "metadata": {
            "tags": []
          },
          "execution_count": 43
        }
      ]
    },
    {
      "cell_type": "code",
      "metadata": {
        "id": "t7GkFr8wIpXK",
        "colab_type": "code",
        "colab": {}
      },
      "source": [
        "for col in number_colsfloat['Col_Name']:\n",
        "  df1[col]=df1[col].fillna(df1[col].mean())\n",
        "\n"
      ],
      "execution_count": 0,
      "outputs": []
    },
    {
      "cell_type": "code",
      "metadata": {
        "id": "_FmOTS4bQ57Z",
        "colab_type": "code",
        "outputId": "328dae90-3d3b-4ffd-9636-43914eb01f4d",
        "colab": {
          "base_uri": "https://localhost:8080/",
          "height": 532
        }
      },
      "source": [
        "df1.isnull().sum()"
      ],
      "execution_count": 45,
      "outputs": [
        {
          "output_type": "execute_result",
          "data": {
            "text/plain": [
              "neighbourhood_cleansed           0\n",
              "zipcode                        471\n",
              "market                         102\n",
              "property_type                    0\n",
              "room_type                        0\n",
              "city                            68\n",
              "state                            3\n",
              "accommodates                     0\n",
              "bedrooms                         0\n",
              "beds                             0\n",
              "bed_type                         0\n",
              "price                            0\n",
              "number_of_reviews                0\n",
              "review_scores_rating             0\n",
              "review_scores_accuracy           0\n",
              "review_scores_cleanliness        0\n",
              "review_scores_checkin            0\n",
              "review_scores_communication      0\n",
              "review_scores_location           0\n",
              "review_scores_value              0\n",
              "host_listings_count              0\n",
              "is_location_exact                0\n",
              "availability_30                  0\n",
              "minimum_nights                   0\n",
              "latitude                         0\n",
              "longitude                        0\n",
              "bathrooms                        0\n",
              "log_price                        0\n",
              "dtype: int64"
            ]
          },
          "metadata": {
            "tags": []
          },
          "execution_count": 45
        }
      ]
    },
    {
      "cell_type": "code",
      "metadata": {
        "id": "W7wjWHKdTorA",
        "colab_type": "code",
        "outputId": "7ac65a8c-f854-42eb-f49e-9102684f5277",
        "colab": {
          "base_uri": "https://localhost:8080/",
          "height": 70
        }
      },
      "source": [
        "categorical_cols =missing_col_df[missing_col_df.DataType == 'object'].Col_Name.values\n",
        "categorical_cols"
      ],
      "execution_count": 46,
      "outputs": [
        {
          "output_type": "execute_result",
          "data": {
            "text/plain": [
              "array(['zipcode', 'market', 'city', 'state', 'is_location_exact',\n",
              "       'neighbourhood_cleansed', 'bed_type', 'room_type', 'property_type'],\n",
              "      dtype=object)"
            ]
          },
          "metadata": {
            "tags": []
          },
          "execution_count": 46
        }
      ]
    },
    {
      "cell_type": "code",
      "metadata": {
        "id": "n_zVI-8rUNgi",
        "colab_type": "code",
        "colab": {}
      },
      "source": [
        "df1[categorical_cols] = df1[categorical_cols].apply(lambda x:x.fillna(x.value_counts().index[0]))\n"
      ],
      "execution_count": 0,
      "outputs": []
    },
    {
      "cell_type": "code",
      "metadata": {
        "id": "947I0egXUYs4",
        "colab_type": "code",
        "outputId": "3904b5b1-061a-476d-dd53-4574e41698ae",
        "colab": {
          "base_uri": "https://localhost:8080/",
          "height": 532
        }
      },
      "source": [
        "df1.isnull().sum()"
      ],
      "execution_count": 48,
      "outputs": [
        {
          "output_type": "execute_result",
          "data": {
            "text/plain": [
              "neighbourhood_cleansed         0\n",
              "zipcode                        0\n",
              "market                         0\n",
              "property_type                  0\n",
              "room_type                      0\n",
              "city                           0\n",
              "state                          0\n",
              "accommodates                   0\n",
              "bedrooms                       0\n",
              "beds                           0\n",
              "bed_type                       0\n",
              "price                          0\n",
              "number_of_reviews              0\n",
              "review_scores_rating           0\n",
              "review_scores_accuracy         0\n",
              "review_scores_cleanliness      0\n",
              "review_scores_checkin          0\n",
              "review_scores_communication    0\n",
              "review_scores_location         0\n",
              "review_scores_value            0\n",
              "host_listings_count            0\n",
              "is_location_exact              0\n",
              "availability_30                0\n",
              "minimum_nights                 0\n",
              "latitude                       0\n",
              "longitude                      0\n",
              "bathrooms                      0\n",
              "log_price                      0\n",
              "dtype: int64"
            ]
          },
          "metadata": {
            "tags": []
          },
          "execution_count": 48
        }
      ]
    },
    {
      "cell_type": "code",
      "metadata": {
        "id": "GLqr0hehUzNB",
        "colab_type": "code",
        "outputId": "4a3d4b03-84f7-4d5e-ed1e-793d7d4e3038",
        "colab": {
          "base_uri": "https://localhost:8080/",
          "height": 70
        }
      },
      "source": [
        "categorical_cols"
      ],
      "execution_count": 49,
      "outputs": [
        {
          "output_type": "execute_result",
          "data": {
            "text/plain": [
              "array(['zipcode', 'market', 'city', 'state', 'is_location_exact',\n",
              "       'neighbourhood_cleansed', 'bed_type', 'room_type', 'property_type'],\n",
              "      dtype=object)"
            ]
          },
          "metadata": {
            "tags": []
          },
          "execution_count": 49
        }
      ]
    },
    {
      "cell_type": "markdown",
      "metadata": {
        "id": "lRGGNjkrUXoo",
        "colab_type": "text"
      },
      "source": [
        "#Label Encoding"
      ]
    },
    {
      "cell_type": "code",
      "metadata": {
        "id": "g_k9zAwPWE0I",
        "colab_type": "code",
        "colab": {}
      },
      "source": [
        "from sklearn.preprocessing import LabelEncoder\n",
        "enc=LabelEncoder()\n",
        "for col in categorical_cols:\n",
        "  df1[col]=enc.fit_transform(df1[col])"
      ],
      "execution_count": 0,
      "outputs": []
    },
    {
      "cell_type": "code",
      "metadata": {
        "id": "oC2V0bEKWYjj",
        "colab_type": "code",
        "outputId": "a4ea9dd2-c4cd-44a3-86f0-311996dd94d2",
        "colab": {
          "base_uri": "https://localhost:8080/",
          "height": 406
        }
      },
      "source": [
        "df1[categorical_cols]"
      ],
      "execution_count": 51,
      "outputs": [
        {
          "output_type": "execute_result",
          "data": {
            "text/html": [
              "<div>\n",
              "<style scoped>\n",
              "    .dataframe tbody tr th:only-of-type {\n",
              "        vertical-align: middle;\n",
              "    }\n",
              "\n",
              "    .dataframe tbody tr th {\n",
              "        vertical-align: top;\n",
              "    }\n",
              "\n",
              "    .dataframe thead th {\n",
              "        text-align: right;\n",
              "    }\n",
              "</style>\n",
              "<table border=\"1\" class=\"dataframe\">\n",
              "  <thead>\n",
              "    <tr style=\"text-align: right;\">\n",
              "      <th></th>\n",
              "      <th>zipcode</th>\n",
              "      <th>market</th>\n",
              "      <th>city</th>\n",
              "      <th>state</th>\n",
              "      <th>is_location_exact</th>\n",
              "      <th>neighbourhood_cleansed</th>\n",
              "      <th>bed_type</th>\n",
              "      <th>room_type</th>\n",
              "      <th>property_type</th>\n",
              "    </tr>\n",
              "  </thead>\n",
              "  <tbody>\n",
              "    <tr>\n",
              "      <th>0</th>\n",
              "      <td>26</td>\n",
              "      <td>12</td>\n",
              "      <td>148</td>\n",
              "      <td>4</td>\n",
              "      <td>1</td>\n",
              "      <td>97</td>\n",
              "      <td>3</td>\n",
              "      <td>2</td>\n",
              "      <td>1</td>\n",
              "    </tr>\n",
              "    <tr>\n",
              "      <th>1</th>\n",
              "      <td>135</td>\n",
              "      <td>12</td>\n",
              "      <td>42</td>\n",
              "      <td>4</td>\n",
              "      <td>1</td>\n",
              "      <td>42</td>\n",
              "      <td>4</td>\n",
              "      <td>0</td>\n",
              "      <td>18</td>\n",
              "    </tr>\n",
              "    <tr>\n",
              "      <th>2</th>\n",
              "      <td>28</td>\n",
              "      <td>12</td>\n",
              "      <td>148</td>\n",
              "      <td>4</td>\n",
              "      <td>1</td>\n",
              "      <td>63</td>\n",
              "      <td>4</td>\n",
              "      <td>0</td>\n",
              "      <td>1</td>\n",
              "    </tr>\n",
              "    <tr>\n",
              "      <th>3</th>\n",
              "      <td>16</td>\n",
              "      <td>12</td>\n",
              "      <td>148</td>\n",
              "      <td>4</td>\n",
              "      <td>0</td>\n",
              "      <td>140</td>\n",
              "      <td>4</td>\n",
              "      <td>0</td>\n",
              "      <td>1</td>\n",
              "    </tr>\n",
              "    <tr>\n",
              "      <th>4</th>\n",
              "      <td>114</td>\n",
              "      <td>12</td>\n",
              "      <td>42</td>\n",
              "      <td>4</td>\n",
              "      <td>0</td>\n",
              "      <td>13</td>\n",
              "      <td>2</td>\n",
              "      <td>2</td>\n",
              "      <td>1</td>\n",
              "    </tr>\n",
              "    <tr>\n",
              "      <th>...</th>\n",
              "      <td>...</td>\n",
              "      <td>...</td>\n",
              "      <td>...</td>\n",
              "      <td>...</td>\n",
              "      <td>...</td>\n",
              "      <td>...</td>\n",
              "      <td>...</td>\n",
              "      <td>...</td>\n",
              "      <td>...</td>\n",
              "    </tr>\n",
              "    <tr>\n",
              "      <th>48372</th>\n",
              "      <td>130</td>\n",
              "      <td>12</td>\n",
              "      <td>42</td>\n",
              "      <td>4</td>\n",
              "      <td>1</td>\n",
              "      <td>54</td>\n",
              "      <td>4</td>\n",
              "      <td>0</td>\n",
              "      <td>1</td>\n",
              "    </tr>\n",
              "    <tr>\n",
              "      <th>48373</th>\n",
              "      <td>20</td>\n",
              "      <td>12</td>\n",
              "      <td>148</td>\n",
              "      <td>4</td>\n",
              "      <td>1</td>\n",
              "      <td>204</td>\n",
              "      <td>4</td>\n",
              "      <td>0</td>\n",
              "      <td>1</td>\n",
              "    </tr>\n",
              "    <tr>\n",
              "      <th>48374</th>\n",
              "      <td>119</td>\n",
              "      <td>12</td>\n",
              "      <td>44</td>\n",
              "      <td>4</td>\n",
              "      <td>0</td>\n",
              "      <td>28</td>\n",
              "      <td>4</td>\n",
              "      <td>2</td>\n",
              "      <td>1</td>\n",
              "    </tr>\n",
              "    <tr>\n",
              "      <th>48375</th>\n",
              "      <td>111</td>\n",
              "      <td>12</td>\n",
              "      <td>42</td>\n",
              "      <td>4</td>\n",
              "      <td>0</td>\n",
              "      <td>53</td>\n",
              "      <td>4</td>\n",
              "      <td>2</td>\n",
              "      <td>22</td>\n",
              "    </tr>\n",
              "    <tr>\n",
              "      <th>48376</th>\n",
              "      <td>189</td>\n",
              "      <td>12</td>\n",
              "      <td>89</td>\n",
              "      <td>4</td>\n",
              "      <td>0</td>\n",
              "      <td>73</td>\n",
              "      <td>4</td>\n",
              "      <td>2</td>\n",
              "      <td>22</td>\n",
              "    </tr>\n",
              "  </tbody>\n",
              "</table>\n",
              "<p>48377 rows × 9 columns</p>\n",
              "</div>"
            ],
            "text/plain": [
              "       zipcode  market  city  ...  bed_type  room_type  property_type\n",
              "0           26      12   148  ...         3          2              1\n",
              "1          135      12    42  ...         4          0             18\n",
              "2           28      12   148  ...         4          0              1\n",
              "3           16      12   148  ...         4          0              1\n",
              "4          114      12    42  ...         2          2              1\n",
              "...        ...     ...   ...  ...       ...        ...            ...\n",
              "48372      130      12    42  ...         4          0              1\n",
              "48373       20      12   148  ...         4          0              1\n",
              "48374      119      12    44  ...         4          2              1\n",
              "48375      111      12    42  ...         4          2             22\n",
              "48376      189      12    89  ...         4          2             22\n",
              "\n",
              "[48377 rows x 9 columns]"
            ]
          },
          "metadata": {
            "tags": []
          },
          "execution_count": 51
        }
      ]
    },
    {
      "cell_type": "code",
      "metadata": {
        "id": "G3t7FdMg_Zxx",
        "colab_type": "code",
        "colab": {}
      },
      "source": [
        "df2=df1.copy(deep=True)"
      ],
      "execution_count": 0,
      "outputs": []
    },
    {
      "cell_type": "markdown",
      "metadata": {
        "id": "gLuGe-VSU8ZX",
        "colab_type": "text"
      },
      "source": [
        "# MODEL BUILDING"
      ]
    },
    {
      "cell_type": "code",
      "metadata": {
        "id": "UAKUNGdzWc-C",
        "colab_type": "code",
        "colab": {}
      },
      "source": [
        "import pandas as pd\n",
        "from sklearn.model_selection import train_test_split\n",
        "from matplotlib import pyplot as plt"
      ],
      "execution_count": 0,
      "outputs": []
    },
    {
      "cell_type": "code",
      "metadata": {
        "id": "FltIh3Lup3Fe",
        "colab_type": "code",
        "colab": {}
      },
      "source": [
        "df2=df2.drop(['price'],axis=1)\n",
        "X=df2.drop(['log_price'],axis=1)\n",
        "Y=df2.log_price"
      ],
      "execution_count": 0,
      "outputs": []
    },
    {
      "cell_type": "code",
      "metadata": {
        "id": "crzIFuB2nsgu",
        "colab_type": "code",
        "outputId": "383c846b-cc3c-4168-e169-2924da320fcf",
        "colab": {
          "base_uri": "https://localhost:8080/",
          "height": 87
        }
      },
      "source": [
        "X_train, X_test, Y_train, Y_test = train_test_split(X, Y, test_size=0.2)\n",
        "print (X_train.shape)\n",
        "print(Y_train.shape)\n",
        "print (X_test.shape)\n",
        "print(Y_test.shape)"
      ],
      "execution_count": 55,
      "outputs": [
        {
          "output_type": "stream",
          "text": [
            "(38701, 26)\n",
            "(38701,)\n",
            "(9676, 26)\n",
            "(9676,)\n"
          ],
          "name": "stdout"
        }
      ]
    },
    {
      "cell_type": "code",
      "metadata": {
        "id": "1XEHgR_ULuN5",
        "colab_type": "code",
        "colab": {
          "base_uri": "https://localhost:8080/",
          "height": 496
        },
        "outputId": "a92bcc54-0d27-4aa2-ef01-e4eeae07467d"
      },
      "source": [
        "np.isfinite(X_train).all()"
      ],
      "execution_count": 56,
      "outputs": [
        {
          "output_type": "execute_result",
          "data": {
            "text/plain": [
              "neighbourhood_cleansed         True\n",
              "zipcode                        True\n",
              "market                         True\n",
              "property_type                  True\n",
              "room_type                      True\n",
              "city                           True\n",
              "state                          True\n",
              "accommodates                   True\n",
              "bedrooms                       True\n",
              "beds                           True\n",
              "bed_type                       True\n",
              "number_of_reviews              True\n",
              "review_scores_rating           True\n",
              "review_scores_accuracy         True\n",
              "review_scores_cleanliness      True\n",
              "review_scores_checkin          True\n",
              "review_scores_communication    True\n",
              "review_scores_location         True\n",
              "review_scores_value            True\n",
              "host_listings_count            True\n",
              "is_location_exact              True\n",
              "availability_30                True\n",
              "minimum_nights                 True\n",
              "latitude                       True\n",
              "longitude                      True\n",
              "bathrooms                      True\n",
              "dtype: bool"
            ]
          },
          "metadata": {
            "tags": []
          },
          "execution_count": 56
        }
      ]
    },
    {
      "cell_type": "code",
      "metadata": {
        "id": "f213aFBfLwqJ",
        "colab_type": "code",
        "colab": {
          "base_uri": "https://localhost:8080/",
          "height": 34
        },
        "outputId": "8b644d24-d5d8-4f1f-c49e-9cf2d111bb7e"
      },
      "source": [
        "np.isfinite(Y_train).all()"
      ],
      "execution_count": 57,
      "outputs": [
        {
          "output_type": "execute_result",
          "data": {
            "text/plain": [
              "True"
            ]
          },
          "metadata": {
            "tags": []
          },
          "execution_count": 57
        }
      ]
    },
    {
      "cell_type": "markdown",
      "metadata": {
        "id": "aKpiNRz-jBfC",
        "colab_type": "text"
      },
      "source": [
        "# KNN Model"
      ]
    },
    {
      "cell_type": "code",
      "metadata": {
        "id": "9SLPZWePqBfk",
        "colab_type": "code",
        "colab": {}
      },
      "source": [
        "from sklearn.neighbors import KNeighborsRegressor\n",
        "knn = KNeighborsRegressor()"
      ],
      "execution_count": 0,
      "outputs": []
    },
    {
      "cell_type": "code",
      "metadata": {
        "id": "pbAYcxke5dfB",
        "colab_type": "code",
        "colab": {}
      },
      "source": [
        "knn = KNeighborsRegressor(algorithm='brute')"
      ],
      "execution_count": 0,
      "outputs": []
    },
    {
      "cell_type": "code",
      "metadata": {
        "id": "9oj5rZ0T76aS",
        "colab_type": "code",
        "colab": {}
      },
      "source": [
        "knn_model=knn.fit(X_train, Y_train)"
      ],
      "execution_count": 0,
      "outputs": []
    },
    {
      "cell_type": "code",
      "metadata": {
        "id": "rjjj_zQx-NiR",
        "colab_type": "code",
        "colab": {}
      },
      "source": [
        "Y_predictions = knn.predict(X_test)"
      ],
      "execution_count": 0,
      "outputs": []
    },
    {
      "cell_type": "markdown",
      "metadata": {
        "id": "pAmn-lUaOigO",
        "colab_type": "text"
      },
      "source": [
        "#Accuracy Testing using MSE and RMSE"
      ]
    },
    {
      "cell_type": "code",
      "metadata": {
        "id": "P4CVYN0hOkRr",
        "colab_type": "code",
        "colab": {
          "base_uri": "https://localhost:8080/",
          "height": 87
        },
        "outputId": "0046ffa7-266e-45d9-a129-25c78e613469"
      },
      "source": [
        "from sklearn.metrics import mean_squared_error as mse\n",
        "knn_mse=mse(Y_test,Y_predictions)\n",
        "knn_rmse= knn_mse ** (1/2)\n",
        "print('Mean Squared Error for KNN model is :', knn_mse)\n",
        "print('\\n')\n",
        "print('Root Mean Squared Error for KNN model is :', knn_rmse)"
      ],
      "execution_count": 62,
      "outputs": [
        {
          "output_type": "stream",
          "text": [
            "Mean Squared Error for KNN model is : 0.27766820714950013\n",
            "\n",
            "\n",
            "Root Mean Squared Error for KNN model is : 0.5269423186170381\n"
          ],
          "name": "stdout"
        }
      ]
    },
    {
      "cell_type": "code",
      "metadata": {
        "id": "VZZVzXFZhlEi",
        "colab_type": "code",
        "colab": {
          "base_uri": "https://localhost:8080/",
          "height": 70
        },
        "outputId": "578e4bd4-c258-4594-bfe3-7843cd618fd5"
      },
      "source": [
        "from sklearn.metrics import r2_score\n",
        "score = r2_score(Y_test, Y_predictions)\n",
        "print('R2 score for KNN model is:',score)\n",
        "print('\\n') "
      ],
      "execution_count": 78,
      "outputs": [
        {
          "output_type": "stream",
          "text": [
            "R2 score for KNN model is: 0.4251846399047686\n",
            "\n",
            "\n"
          ],
          "name": "stdout"
        }
      ]
    },
    {
      "cell_type": "markdown",
      "metadata": {
        "id": "AC7VXWp6jRbu",
        "colab_type": "text"
      },
      "source": [
        "# Linear Regression"
      ]
    },
    {
      "cell_type": "code",
      "metadata": {
        "id": "VNOmUEzWgAai",
        "colab_type": "code",
        "colab": {}
      },
      "source": [
        "from sklearn import linear_model"
      ],
      "execution_count": 0,
      "outputs": []
    },
    {
      "cell_type": "code",
      "metadata": {
        "id": "B4vdgDf5kHRM",
        "colab_type": "code",
        "colab": {}
      },
      "source": [
        "lm = linear_model.LinearRegression()"
      ],
      "execution_count": 0,
      "outputs": []
    },
    {
      "cell_type": "code",
      "metadata": {
        "id": "D4Yp60r1kOlK",
        "colab_type": "code",
        "colab": {}
      },
      "source": [
        "lm_model = lm.fit(X_train, Y_train)\n",
        "Y_lmpred = lm.predict(X_test)"
      ],
      "execution_count": 0,
      "outputs": []
    },
    {
      "cell_type": "code",
      "metadata": {
        "id": "i4D6W7QMkXBe",
        "colab_type": "code",
        "colab": {
          "base_uri": "https://localhost:8080/",
          "height": 296
        },
        "outputId": "d30bd473-5315-4c95-e337-10310365f457"
      },
      "source": [
        "plt.scatter(Y_test, Y_lmpred)\n",
        "plt.xlabel('Actual Values')\n",
        "plt.ylabel(\"Predicted Values\")"
      ],
      "execution_count": 73,
      "outputs": [
        {
          "output_type": "execute_result",
          "data": {
            "text/plain": [
              "Text(0, 0.5, 'Predicted Values')"
            ]
          },
          "metadata": {
            "tags": []
          },
          "execution_count": 73
        },
        {
          "output_type": "display_data",
          "data": {
            "image/png": "[encoded data removed]",
            "text/plain": [
              "<Figure size 432x288 with 1 Axes>"
            ]
          },
          "metadata": {
            "tags": []
          }
        }
      ]
    },
    {
      "cell_type": "code",
      "metadata": {
        "id": "V03rXG51k10D",
        "colab_type": "code",
        "colab": {
          "base_uri": "https://localhost:8080/",
          "height": 87
        },
        "outputId": "6c731035-c713-4a4a-f80b-6dd62c564394"
      },
      "source": [
        "lm_mse=mse(Y_test,Y_lmpred)\n",
        "lm_rmse= lm_mse ** (1/2)\n",
        "print('Mean Squared Error for linear regression model is :', lm_mse)\n",
        "print('\\n')\n",
        "print('Root Mean Squared Error for Linear regression model is :', lm_rmse)"
      ],
      "execution_count": 76,
      "outputs": [
        {
          "output_type": "stream",
          "text": [
            "Mean Squared Error for linear regression model is : 0.19509247716769443\n",
            "\n",
            "\n",
            "Root Mean Squared Error for Linear regression model is : 0.44169274067805825\n"
          ],
          "name": "stdout"
        }
      ]
    },
    {
      "cell_type": "code",
      "metadata": {
        "id": "CBOZpHPCmD4O",
        "colab_type": "code",
        "colab": {
          "base_uri": "https://localhost:8080/",
          "height": 70
        },
        "outputId": "7310b73e-00e8-4e3e-8758-4a813fed56d2"
      },
      "source": [
        "lm_score = r2_score(Y_test, Y_lmpred)\n",
        "print('R2 score for Liner Regression is:',lm_score)\n",
        "print('\\n')"
      ],
      "execution_count": 77,
      "outputs": [
        {
          "output_type": "stream",
          "text": [
            "R2 score for Liner Regression is: 0.5961289422859989\n",
            "\n",
            "\n"
          ],
          "name": "stdout"
        }
      ]
    },
    {
      "cell_type": "markdown",
      "metadata": {
        "id": "N12CiNd92KQv",
        "colab_type": "text"
      },
      "source": [
        "# Ridge Regression"
      ]
    },
    {
      "cell_type": "code",
      "metadata": {
        "id": "bFNG4HGPnq1o",
        "colab_type": "code",
        "colab": {}
      },
      "source": [
        "from sklearn.linear_model import Ridge"
      ],
      "execution_count": 0,
      "outputs": []
    },
    {
      "cell_type": "code",
      "metadata": {
        "id": "Khu1VVln26Wp",
        "colab_type": "code",
        "colab": {
          "base_uri": "https://localhost:8080/",
          "height": 52
        },
        "outputId": "c3e0ab5b-cbab-4fec-abaf-42d18d198b6f"
      },
      "source": [
        "ridgeReg = Ridge(alpha=0.05, normalize=True)\n",
        "ridgeReg.fit(X_train,Y_train)"
      ],
      "execution_count": 80,
      "outputs": [
        {
          "output_type": "execute_result",
          "data": {
            "text/plain": [
              "Ridge(alpha=0.05, copy_X=True, fit_intercept=True, max_iter=None,\n",
              "      normalize=True, random_state=None, solver='auto', tol=0.001)"
            ]
          },
          "metadata": {
            "tags": []
          },
          "execution_count": 80
        }
      ]
    },
    {
      "cell_type": "code",
      "metadata": {
        "id": "_RdvGKTA8T73",
        "colab_type": "code",
        "colab": {}
      },
      "source": [
        "Y_ridgepred = ridgeReg.predict(X_test)"
      ],
      "execution_count": 0,
      "outputs": []
    },
    {
      "cell_type": "code",
      "metadata": {
        "id": "vUEhPuwR8uE4",
        "colab_type": "code",
        "colab": {
          "base_uri": "https://localhost:8080/",
          "height": 70
        },
        "outputId": "5d4487c4-5ed3-4a7f-9bd2-28fe8467fd3e"
      },
      "source": [
        "ridge_mse = np.mean((Y_ridgepred - Y_test)**2)\n",
        "print('mse score for Ridge Regression is:',ridge_mse)\n",
        "print('\\n')"
      ],
      "execution_count": 85,
      "outputs": [
        {
          "output_type": "stream",
          "text": [
            "mse score for Ridge Regression is: 0.1954360690681684\n",
            "\n",
            "\n"
          ],
          "name": "stdout"
        }
      ]
    },
    {
      "cell_type": "markdown",
      "metadata": {
        "id": "g4Dhk8yOA5dM",
        "colab_type": "text"
      },
      "source": [
        "#Lasso Regression"
      ]
    },
    {
      "cell_type": "code",
      "metadata": {
        "id": "SIuokR3N9DDu",
        "colab_type": "code",
        "colab": {}
      },
      "source": [
        "from sklearn.linear_model import Lasso\n",
        "\n",
        "lassoReg = Lasso(alpha=0.3, normalize=True)\n",
        "\n",
        "lassoReg.fit(X_train,Y_train)\n",
        "\n",
        "Y_lassopred = lassoReg.predict(X_test)"
      ],
      "execution_count": 0,
      "outputs": []
    },
    {
      "cell_type": "code",
      "metadata": {
        "id": "Zj-UQRz8BKb-",
        "colab_type": "code",
        "colab": {
          "base_uri": "https://localhost:8080/",
          "height": 70
        },
        "outputId": "ee218625-3970-4eca-acec-291467db2abf"
      },
      "source": [
        "lasso_mse=np.mean((Y_lassopred - Y_test)**2)\n",
        "print('mse score for Lasso Regression is:',lasso_mse)\n",
        "print('\\n')"
      ],
      "execution_count": 87,
      "outputs": [
        {
          "output_type": "stream",
          "text": [
            "mse score for Lasso Regression is: 0.48306907976694313\n",
            "\n",
            "\n"
          ],
          "name": "stdout"
        }
      ]
    },
    {
      "cell_type": "markdown",
      "metadata": {
        "id": "94xJUFNRCZV5",
        "colab_type": "text"
      },
      "source": [
        "# Performance comparision\n",
        "\n"
      ]
    },
    {
      "cell_type": "code",
      "metadata": {
        "id": "VwuvD-uYBo4E",
        "colab_type": "code",
        "colab": {
          "base_uri": "https://localhost:8080/",
          "height": 312
        },
        "outputId": "9594c68c-5a19-4899-d572-ca705c200bbc"
      },
      "source": [
        "objects = ('knn', 'linear', 'lasso', 'ridge')\n",
        "y_pos = np.arange(len(objects))\n",
        "performance = [knn_mse,lm_mse,lasso_mse,ridge_mse]\n",
        "plt.bar(y_pos, performance, align='center', alpha=0.5)\n",
        "plt.xticks(y_pos, objects)\n",
        "plt.xlabel('Models')\n",
        "plt.title('Performnce comparision')"
      ],
      "execution_count": 91,
      "outputs": [
        {
          "output_type": "execute_result",
          "data": {
            "text/plain": [
              "Text(0.5, 1.0, 'Performnce comparision')"
            ]
          },
          "metadata": {
            "tags": []
          },
          "execution_count": 91
        },
        {
          "output_type": "display_data",
          "data": {
            "image/png": "[encoded data removed]",
            "text/plain": [
              "<Figure size 432x288 with 1 Axes>"
            ]
          },
          "metadata": {
            "tags": []
          }
        }
      ]
    },
    {
      "cell_type": "code",
      "metadata": {
        "id": "pbmCo14YEG1e",
        "colab_type": "code",
        "colab": {}
      },
      "source": [
        ""
      ],
      "execution_count": 0,
      "outputs": []
    }
  ]
}